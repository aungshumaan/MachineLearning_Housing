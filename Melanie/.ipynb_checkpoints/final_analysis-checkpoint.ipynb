{
 "cells": [
  {
   "cell_type": "markdown",
   "metadata": {},
   "source": [
    "# EDA Kaggle Competition: Team Integreat"
   ]
  },
  {
   "cell_type": "code",
   "execution_count": null,
   "metadata": {},
   "outputs": [],
   "source": [
    "import pandas as pd\n",
    "import numpy as np\n",
    "import plotly\n",
    "import plotly.plotly as py\n",
    "from scipy import stats\n",
    "import numpy as np\n",
    "import seaborn as sns\n",
    "import matplotlib.pyplot as plt\n",
    "%matplotlib inline"
   ]
  },
  {
   "cell_type": "markdown",
   "metadata": {},
   "source": [
    "### Load and combine test and train"
   ]
  },
  {
   "cell_type": "code",
   "execution_count": null,
   "metadata": {},
   "outputs": [],
   "source": [
    "train = pd.read_csv('train.csv')\n",
    "test = pd.read_csv('test.csv')\n",
    "\n",
    "# Save the 'Id' column\n",
    "train_ID = train['Id']\n",
    "test_ID = test['Id']\n",
    "\n",
    "# Now drop the 'Id' colum since we can not use it as a feature to train our model.\n",
    "train.drop(\"Id\", axis = 1, inplace = True)\n",
    "test.drop(\"Id\", axis = 1, inplace = True)\n",
    "\n",
    "#Y_train = train['SalePrice']\n",
    "#X_train = train.drop('SalePrice', axis=1)\n",
    "#X_test = test.copy()\n",
    "\n",
    "all_data = pd.concat([train, test], ignore_index=True)\n",
    "all_data.head()"
   ]
  },
  {
   "cell_type": "markdown",
   "metadata": {},
   "source": [
    "## **Feature Engineering**"
   ]
  },
  {
   "cell_type": "code",
   "execution_count": null,
   "metadata": {},
   "outputs": [],
   "source": [
    "# identify categorical and numerical columns\n",
    "pd.set_option('display.max_columns', all_data.shape[1])\n",
    "pd.set_option('display.max_rows', all_data.shape[0])\n",
    "\n",
    "target = ['SalePrice']\n",
    "\n",
    "mask = all_data.dtypes=='object'\n",
    "all_data.columns[mask]\n",
    "cat_cols = ['MSZoning', 'Street', 'Alley', 'LotShape', 'LandContour', 'Utilities',\n",
    "       'LotConfig', 'LandSlope', 'Neighborhood', 'Condition1', 'Condition2',\n",
    "       'BldgType', 'HouseStyle', 'RoofStyle', 'RoofMatl', 'Exterior1st',\n",
    "       'Exterior2nd', 'MasVnrType', 'ExterQual', 'ExterCond', 'Foundation',\n",
    "       'BsmtQual', 'BsmtCond', 'BsmtExposure', 'BsmtFinType1', 'BsmtFinType2',\n",
    "       'Heating', 'HeatingQC', 'CentralAir', 'Electrical', 'KitchenQual',\n",
    "       'Functional', 'FireplaceQu', 'GarageType', 'GarageFinish', 'GarageQual',\n",
    "       'GarageCond', 'PavedDrive', 'PoolQC', 'Fence', 'MiscFeature',\n",
    "       'SaleType', 'SaleCondition']\n",
    "\n",
    "mask1 = all_data.dtypes=='int64'\n",
    "all_data.columns[mask1]\n",
    "mask2 = all_data.dtypes=='float64'\n",
    "all_data.columns[mask2]\n",
    "\n",
    "num_cols = ['MSSubClass', 'LotArea', 'OverallQual', 'OverallCond', 'YearBuilt',\n",
    "       'YearRemodAdd', '1stFlrSF', '2ndFlrSF', 'LowQualFinSF', 'GrLivArea',\n",
    "       'FullBath', 'HalfBath', 'BedroomAbvGr', 'KitchenAbvGr', 'TotRmsAbvGrd',\n",
    "       'Fireplaces', 'WoodDeckSF', 'OpenPorchSF', 'EnclosedPorch', '3SsnPorch',\n",
    "      'ScreenPorch', 'PoolArea', 'MiscVal', 'MoSold', 'YrSold', 'LotFrontage', 'MasVnrArea', 'BsmtFinSF1', 'BsmtFinSF2', 'BsmtUnfSF',\n",
    "       'TotalBsmtSF', 'BsmtFullBath', 'BsmtHalfBath', 'GarageYrBlt',\n",
    "       'GarageCars', 'GarageArea']"
   ]
  },
  {
   "cell_type": "code",
   "execution_count": null,
   "metadata": {},
   "outputs": [],
   "source": [
    "# identfy missing values\n",
    "# flag missing values for each cell with new variable\n",
    "# impute missing values with mean\n",
    "\n",
    "all_data.isnull().any()\n",
    "\n",
    "# combine cat and num columns:\n",
    "\n",
    "cat_num_cols = cat_cols + num_cols\n",
    "\n",
    "#Create a new variable for each variable having missing value with VariableName_NA \n",
    "# and flag missing value with 1 and other with 0\n",
    "\n",
    "for var in cat_num_cols:\n",
    "    if all_data[var].isnull().any()==True:\n",
    "        all_data[var+'_NA']=all_data[var].isnull()*1"
   ]
  },
  {
   "cell_type": "code",
   "execution_count": null,
   "metadata": {},
   "outputs": [],
   "source": [
    "all_data_nomiss = all_data.copy()\n",
    "all_data_nomiss.head()\n",
    "\n",
    "#Impute numerical missing values with mean\n",
    "all_data_nomiss.loc[:, num_cols] = all_data_nomiss[num_cols].fillna(all_data_nomiss[num_cols].mean())\n",
    "\n",
    "#Impute categorical missing values with -9999\n",
    "all_data_nomiss.loc[:, cat_cols] = all_data_nomiss[cat_cols].fillna(value = -9999)"
   ]
  },
  {
   "cell_type": "code",
   "execution_count": 178,
   "metadata": {},
   "outputs": [],
   "source": [
    "#create label encoders for categorical features\n",
    "from sklearn.preprocessing import LabelEncoder\n",
    "\n",
    "for var in cat_cols:\n",
    " number = LabelEncoder()\n",
    " all_data_nomiss[var] = number.fit_transform(all_data_nomiss[var].astype('str'))\n",
    "\n",
    "#Target variable is also a categorical so convert it\n",
    "year_cols = ['YearBuilt', 'YearRemodAdd', 'YrSold']\n",
    "for year in year_cols:\n",
    "    all_data[year] = number.fit_transform(all_data_nomiss[year].astype('str'))\n",
    "\n",
    "    \n",
    "trainset = len(train)\n",
    "train = all_data_nomiss[:trainset]\n",
    "test = all_data_nomiss[trainset:]\n",
    "\n",
    "train = train.copy()\n",
    "train['is_train'] = np.random.uniform(0, 1, len(train)) <= .75\n",
    "Train, Validate = train[train['is_train']==True], train[train['is_train']==False]"
   ]
  },
  {
   "cell_type": "code",
   "execution_count": 179,
   "metadata": {},
   "outputs": [],
   "source": [
    "features = list(set(list(all_data.columns))-set(target))"
   ]
  },
  {
   "cell_type": "code",
   "execution_count": 202,
   "metadata": {},
   "outputs": [
    {
     "data": {
      "text/plain": [
       "1459"
      ]
     },
     "execution_count": 202,
     "metadata": {},
     "output_type": "execute_result"
    }
   ],
   "source": [
    "x_train = Train[list(features)].values\n",
    "y_train = np.log1p(Train[\"SalePrice\"].values)\n",
    "x_validate = Validate[list(features)].values\n",
    "y_validate = np.log1p(Validate[\"SalePrice\"].values)\n",
    "x_test=test[list(features)].values"
   ]
  },
  {
   "cell_type": "markdown",
   "metadata": {},
   "source": [
    "## **Linear Regression**"
   ]
  },
  {
   "cell_type": "code",
   "execution_count": 226,
   "metadata": {},
   "outputs": [
    {
     "data": {
      "text/plain": [
       "<matplotlib.collections.PathCollection at 0x1a264b2e80>"
      ]
     },
     "execution_count": 226,
     "metadata": {},
     "output_type": "execute_result"
    },
    {
     "data": {
      "image/png": "[encoded data removed]",
      "text/plain": [
       "<matplotlib.figure.Figure at 0x1a242be470>"
      ]
     },
     "metadata": {},
     "output_type": "display_data"
    }
   ],
   "source": [
    "from sklearn.linear_model import LinearRegression\n",
    "\n",
    "ls = LinearRegression()\n",
    "ls.fit(x_train, y_train)\n",
    "status = ls.predict(x_validate)\n",
    "\n",
    "plt.scatter(y_validate, status)"
   ]
  },
  {
   "cell_type": "markdown",
   "metadata": {},
   "source": [
    "## **Random Forest**"
   ]
  },
  {
   "cell_type": "code",
   "execution_count": 194,
   "metadata": {},
   "outputs": [
    {
     "name": "stdout",
     "output_type": "stream",
     "text": [
      "6.48 s ± 261 ms per loop (mean ± std. dev. of 7 runs, 1 loop each)\n"
     ]
    }
   ],
   "source": [
    "from sklearn.ensemble import RandomForestRegressor\n",
    "\n",
    "rf = RandomForestRegressor(n_estimators=500, random_state=1, oob_score=True)\n",
    "%timeit rf.fit(x_train, y_train)"
   ]
  },
  {
   "cell_type": "code",
   "execution_count": 206,
   "metadata": {},
   "outputs": [
    {
     "name": "stdout",
     "output_type": "stream",
     "text": [
      "The R^2 score is: 0.9083884248946046\n",
      "OOB_score is: 0.8600234608055368\n"
     ]
    },
    {
     "data": {
      "text/plain": [
       "<matplotlib.collections.PathCollection at 0x1a19fede48>"
      ]
     },
     "execution_count": 206,
     "metadata": {},
     "output_type": "execute_result"
    },
    {
     "data": {
      "image/png": "[encoded data removed]",
      "text/plain": [
       "<matplotlib.figure.Figure at 0x1a23bf48d0>"
      ]
     },
     "metadata": {},
     "output_type": "display_data"
    }
   ],
   "source": [
    "status = rf.predict(x_validate)\n",
    "print('The R^2 score is:',rf.score(x_validate, y_validate))\n",
    "print('OOB_score is:', rf.oob_score_)\n",
    "\n",
    "final_status = np.expm1(rf.predict(x_test))\n",
    "submission = pd.DataFrame({'Id': test_ID, 'SalePrice': final_status})\n",
    "submission.to_csv('rf_fs.csv', index=False)\n",
    "\n",
    "plt.scatter(y_validate, status)"
   ]
  },
  {
   "cell_type": "markdown",
   "metadata": {},
   "source": [
    "## **XGBoost**"
   ]
  },
  {
   "cell_type": "code",
   "execution_count": 248,
   "metadata": {},
   "outputs": [],
   "source": [
    "def modelfit(model, x_train,useTrainCV=True, cv_folds=5, printFeatureImportance=True):\n",
    "    \n",
    "    if useTrainCV:\n",
    "        xgb_param = model.get_xgb_params()\n",
    "        xgtrain = xgb.DMatrix(x_train.values.reshape(-1,1), label=y_train)\n",
    "        xgtrain = xgb.DMatrix(np.matrix(x_train), label = y_train)\n",
    "        cvresult = xgb.cv(xgb_param, xgtrain, num_boost_round=model.get_params()['n_estimators'],\n",
    "                          nfold=cv_folds, early_stopping_rounds=50, metrics = 'rmse')\n",
    "        model.set_params(n_estimators=cvresult.shape[0])\n",
    "    \n",
    "    #Fit the algorithm on the data\n",
    "    model.fit(x_train, y_train, eval_metric='rmse')\n",
    "        \n",
    "    #Predict training set:\n",
    "    status = model.predict(x_validate)\n",
    "    plt.scatter(y_validate, status)  \n",
    "    \n",
    "    #Print model report:\n",
    "    print (\"\\nModel Report\")\n",
    "    print (\"Error : %f\" % metrics.mean_squared_error(y_validate, status))\n",
    "    print(model.score(x_validate, y_validate))  \n",
    "    \n",
    "    if printFeatureImportance:\n",
    "        feat_imp = pd.Series(model.feature_importances_, features).sort_values(ascending=False)\n",
    "        feat_imp.plot(kind='bar', title='Feature Importances')\n",
    "        plt.ylabel('Feature Importance Score')\n",
    "\n",
    "    #final predictions\n",
    "    #final_status = np.expm1(model.predict(x_test))\n",
    "\n",
    "    #submission = pd.DataFrame({'Id': test_ID, 'SalePrice':final_status})\n",
    "    #submission.to_csv('xgboost_fs.csv', index=False)"
   ]
  },
  {
   "cell_type": "code",
   "execution_count": null,
   "metadata": {},
   "outputs": [],
   "source": [
    "import xgboost as xgb\n",
    "from xgboost.sklearn import XGBRegressor\n",
    "from sklearn import metrics   #Additional scklearn functions\n",
    "from sklearn.grid_search import GridSearchCV   #Perforing grid search"
   ]
  },
  {
   "cell_type": "code",
   "execution_count": 212,
   "metadata": {},
   "outputs": [
    {
     "name": "stdout",
     "output_type": "stream",
     "text": [
      "\n",
      "Model Report\n",
      "Error : 0.013379\n",
      "0.9116984626287317\n",
      "\n",
      "Model Report\n",
      "Error : 0.013379\n",
      "0.9116984626287317\n",
      "\n",
      "Model Report\n",
      "Error : 0.013379\n",
      "0.9116984626287317\n",
      "\n",
      "Model Report\n",
      "Error : 0.013379\n",
      "0.9116984626287317\n",
      "\n",
      "Model Report\n",
      "Error : 0.013379\n",
      "0.9116984626287317\n",
      "\n",
      "Model Report\n",
      "Error : 0.013379\n",
      "0.9116984626287317\n",
      "\n",
      "Model Report\n",
      "Error : 0.013379\n",
      "0.9116984626287317\n",
      "\n",
      "Model Report\n",
      "Error : 0.013379\n",
      "0.9116984626287317\n",
      "6.68 s ± 366 ms per loop (mean ± std. dev. of 7 runs, 1 loop each)\n"
     ]
    },
    {
     "data": {
      "image/png": "[encoded data removed]",
      "text/plain": [
       "<matplotlib.figure.Figure at 0x1a231c4048>"
      ]
     },
     "metadata": {},
     "output_type": "display_data"
    }
   ],
   "source": [
    "xgb1 = XGBRegressor(\n",
    " learning_rate =0.1,\n",
    " n_estimators=1000,\n",
    " max_depth=5,\n",
    " min_child_weight=1,\n",
    " gamma=0,\n",
    " subsample=0.8,\n",
    " colsample_bytree=0.8,\n",
    " objective= 'reg:linear',\n",
    " n_jobs=-1,\n",
    " scale_pos_weight=1,\n",
    " seed=27)\n",
    "\n",
    "%timeit modelfit(xgb1, x_train)"
   ]
  },
  {
   "cell_type": "code",
   "execution_count": 213,
   "metadata": {},
   "outputs": [
    {
     "data": {
      "text/plain": [
       "([mean: 0.89287, std: 0.01535, params: {'max_depth': 3, 'min_child_weight': 1},\n",
       "  mean: 0.89236, std: 0.01481, params: {'max_depth': 3, 'min_child_weight': 3},\n",
       "  mean: 0.88827, std: 0.01260, params: {'max_depth': 3, 'min_child_weight': 5},\n",
       "  mean: 0.88452, std: 0.01566, params: {'max_depth': 5, 'min_child_weight': 1},\n",
       "  mean: 0.89061, std: 0.01517, params: {'max_depth': 5, 'min_child_weight': 3},\n",
       "  mean: 0.88790, std: 0.01360, params: {'max_depth': 5, 'min_child_weight': 5},\n",
       "  mean: 0.88207, std: 0.01486, params: {'max_depth': 7, 'min_child_weight': 1},\n",
       "  mean: 0.89010, std: 0.01460, params: {'max_depth': 7, 'min_child_weight': 3},\n",
       "  mean: 0.88529, std: 0.01493, params: {'max_depth': 7, 'min_child_weight': 5},\n",
       "  mean: 0.87957, std: 0.01455, params: {'max_depth': 9, 'min_child_weight': 1},\n",
       "  mean: 0.88878, std: 0.01252, params: {'max_depth': 9, 'min_child_weight': 3},\n",
       "  mean: 0.88438, std: 0.01587, params: {'max_depth': 9, 'min_child_weight': 5}],\n",
       " {'max_depth': 3, 'min_child_weight': 1},\n",
       " 0.8928723357608197)"
      ]
     },
     "execution_count": 213,
     "metadata": {},
     "output_type": "execute_result"
    }
   ],
   "source": [
    "#tuning step 1\n",
    "\n",
    "param_test1 = {\n",
    " 'max_depth':[3,5,7,9],\n",
    " 'min_child_weight':[1,3,5]\n",
    "}\n",
    "gsearch1 = GridSearchCV(estimator = xgb1,param_grid = param_test1,n_jobs=-1,iid=False, cv=5)\n",
    "gsearch1.fit(x_train,y_train)\n",
    "\n",
    "gsearch1.grid_scores_, gsearch1.best_params_, gsearch1.best_score_"
   ]
  },
  {
   "cell_type": "code",
   "execution_count": 218,
   "metadata": {},
   "outputs": [
    {
     "data": {
      "text/plain": [
       "([mean: 0.89120, std: 0.01615, params: {'max_depth': 2, 'min_child_weight': 1},\n",
       "  mean: 0.89287, std: 0.01535, params: {'max_depth': 3, 'min_child_weight': 1},\n",
       "  mean: 0.89037, std: 0.01511, params: {'max_depth': 4, 'min_child_weight': 1}],\n",
       " {'max_depth': 3, 'min_child_weight': 1},\n",
       " 0.8928723357608197)"
      ]
     },
     "execution_count": 218,
     "metadata": {},
     "output_type": "execute_result"
    }
   ],
   "source": [
    "#tuning step 2: zooming in\n",
    "\n",
    "param_test2 = {\n",
    " 'max_depth':[2,3,4],\n",
    " 'min_child_weight':[1]\n",
    "}\n",
    "gsearch2 = GridSearchCV(estimator = xgb1,param_grid = param_test2,n_jobs=-1,iid=False, cv=5)\n",
    "gsearch2.fit(x_train,y_train)\n",
    "\n",
    "gsearch2.grid_scores_, gsearch2.best_params_, gsearch2.best_score_"
   ]
  },
  {
   "cell_type": "code",
   "execution_count": 220,
   "metadata": {},
   "outputs": [
    {
     "data": {
      "text/plain": [
       "([mean: 0.89287, std: 0.01535, params: {'max_depth': 3, 'min_child_weight': 0},\n",
       "  mean: 0.89287, std: 0.01535, params: {'max_depth': 3, 'min_child_weight': 1},\n",
       "  mean: 0.89281, std: 0.02013, params: {'max_depth': 3, 'min_child_weight': 2}],\n",
       " {'max_depth': 3, 'min_child_weight': 0},\n",
       " 0.8928723357608197)"
      ]
     },
     "execution_count": 220,
     "metadata": {},
     "output_type": "execute_result"
    }
   ],
   "source": [
    "#tuning step 2: zooming in\n",
    "\n",
    "param_test3 = {\n",
    " 'max_depth':[3],\n",
    " 'min_child_weight':[0,1,2]\n",
    "}\n",
    "gsearch3 = GridSearchCV(estimator = xgb1,param_grid = param_test3,n_jobs=-1,iid=False, cv=5)\n",
    "gsearch3.fit(x_train,y_train)\n",
    "\n",
    "gsearch3.grid_scores_, gsearch3.best_params_, gsearch3.best_score_"
   ]
  },
  {
   "cell_type": "code",
   "execution_count": 221,
   "metadata": {},
   "outputs": [
    {
     "data": {
      "text/plain": [
       "([mean: 0.89029, std: 0.01457, params: {'gamma': 0.0},\n",
       "  mean: 0.88853, std: 0.01270, params: {'gamma': 0.1},\n",
       "  mean: 0.87833, std: 0.01216, params: {'gamma': 0.2},\n",
       "  mean: 0.87386, std: 0.01418, params: {'gamma': 0.3},\n",
       "  mean: 0.86749, std: 0.01663, params: {'gamma': 0.4}],\n",
       " {'gamma': 0.0},\n",
       " 0.8902876057060845)"
      ]
     },
     "execution_count": 221,
     "metadata": {},
     "output_type": "execute_result"
    }
   ],
   "source": [
    "# tuning gamma\n",
    "param_test4 = {\n",
    " 'gamma':[i/10.0 for i in range(0,5)]\n",
    "}\n",
    "\n",
    "gsearch4 = GridSearchCV(estimator = XGBRegressor(\n",
    " learning_rate =0.1,\n",
    " n_estimators=1000,\n",
    " max_depth=6,\n",
    " min_child_weight=3,\n",
    " gamma=0,\n",
    " subsample=0.8,\n",
    " colsample_bytree=0.8,\n",
    " objective= 'reg:linear',\n",
    " n_jobs=-1,\n",
    " scale_pos_weight=1,\n",
    " seed=27),param_grid = param_test4,n_jobs=-1,iid=False, cv=5) \n",
    "                        \n",
    "                        \n",
    "gsearch4.fit(x_train,y_train)\n",
    "gsearch4.grid_scores_, gsearch4.best_params_, gsearch4.best_score_"
   ]
  },
  {
   "cell_type": "code",
   "execution_count": 222,
   "metadata": {},
   "outputs": [
    {
     "name": "stdout",
     "output_type": "stream",
     "text": [
      "\n",
      "Model Report\n",
      "Error : 0.012411\n",
      "0.9180879204191942\n"
     ]
    },
    {
     "data": {
      "image/png": "[encoded data removed]",
      "text/plain": [
       "<matplotlib.figure.Figure at 0x1a2657af98>"
      ]
     },
     "metadata": {},
     "output_type": "display_data"
    }
   ],
   "source": [
    "xgb2 = XGBRegressor(\n",
    " learning_rate =0.1,\n",
    " n_estimators=1000,\n",
    " max_depth=3,\n",
    " min_child_weight=0,\n",
    " gamma=0,\n",
    " subsample=0.8,\n",
    " colsample_bytree=0.8,\n",
    " objective= 'reg:linear',\n",
    " nthread=4,\n",
    " scale_pos_weight=1,\n",
    " seed=27)\n",
    "\n",
    "modelfit(xgb2, x_train)\n",
    "\n",
    "#max_depth: 3\n",
    "#min_child_weight: 0\n",
    "#gamma: 0"
   ]
  },
  {
   "cell_type": "code",
   "execution_count": 224,
   "metadata": {},
   "outputs": [
    {
     "name": "stdout",
     "output_type": "stream",
     "text": [
      "45 s ± 1.44 s per loop (mean ± std. dev. of 7 runs, 1 loop each)\n"
     ]
    },
    {
     "data": {
      "text/plain": [
       "([mean: 0.89315, std: 0.01557, params: {'colsample_bytree': 0.6, 'subsample': 0.6},\n",
       "  mean: 0.89268, std: 0.01739, params: {'colsample_bytree': 0.6, 'subsample': 0.7},\n",
       "  mean: 0.89267, std: 0.01609, params: {'colsample_bytree': 0.6, 'subsample': 0.8},\n",
       "  mean: 0.89363, std: 0.01472, params: {'colsample_bytree': 0.6, 'subsample': 0.9},\n",
       "  mean: 0.88893, std: 0.02209, params: {'colsample_bytree': 0.7, 'subsample': 0.6},\n",
       "  mean: 0.89064, std: 0.01974, params: {'colsample_bytree': 0.7, 'subsample': 0.7},\n",
       "  mean: 0.89547, std: 0.01564, params: {'colsample_bytree': 0.7, 'subsample': 0.8},\n",
       "  mean: 0.89071, std: 0.01523, params: {'colsample_bytree': 0.7, 'subsample': 0.9},\n",
       "  mean: 0.88922, std: 0.01702, params: {'colsample_bytree': 0.8, 'subsample': 0.6},\n",
       "  mean: 0.89514, std: 0.01613, params: {'colsample_bytree': 0.8, 'subsample': 0.7},\n",
       "  mean: 0.89203, std: 0.01677, params: {'colsample_bytree': 0.8, 'subsample': 0.8},\n",
       "  mean: 0.88527, std: 0.01453, params: {'colsample_bytree': 0.8, 'subsample': 0.9},\n",
       "  mean: 0.89057, std: 0.01732, params: {'colsample_bytree': 0.9, 'subsample': 0.6},\n",
       "  mean: 0.89192, std: 0.01452, params: {'colsample_bytree': 0.9, 'subsample': 0.7},\n",
       "  mean: 0.89229, std: 0.01359, params: {'colsample_bytree': 0.9, 'subsample': 0.8},\n",
       "  mean: 0.88650, std: 0.01242, params: {'colsample_bytree': 0.9, 'subsample': 0.9}],\n",
       " {'colsample_bytree': 0.7, 'subsample': 0.8},\n",
       " 0.8954698209306466)"
      ]
     },
     "execution_count": 224,
     "metadata": {},
     "output_type": "execute_result"
    }
   ],
   "source": [
    "# tuning subsmaple and colsample\n",
    "# take values 0.6,0.7,0.8,0.9 for both to start with\n",
    "\n",
    "param_test5 = {\n",
    " 'subsample':[i/10.0 for i in range(6,10)],\n",
    " 'colsample_bytree':[i/10.0 for i in range(6,10)]\n",
    "}\n",
    "\n",
    "gsearch5 = GridSearchCV(estimator = XGBRegressor(\n",
    " learning_rate =0.1,\n",
    " n_estimators=1000,\n",
    " max_depth=3,\n",
    " min_child_weight=0,\n",
    " gamma=0,\n",
    " objective= 'reg:linear',\n",
    " n_jobs=-1,\n",
    " scale_pos_weight=1,\n",
    " seed=27),param_grid = param_test5,n_jobs=-1,iid=False, cv=5) \n",
    "                        \n",
    "                        \n",
    "%timeit gsearch5.fit(x_train,y_train)\n",
    "gsearch5.grid_scores_, gsearch5.best_params_, gsearch5.best_score_"
   ]
  },
  {
   "cell_type": "code",
   "execution_count": 231,
   "metadata": {},
   "outputs": [
    {
     "name": "stdout",
     "output_type": "stream",
     "text": [
      "4.81 s ± 12.7 ms per loop (mean ± std. dev. of 7 runs, 1 loop each)\n"
     ]
    },
    {
     "data": {
      "text/plain": [
       "([mean: 0.89444, std: 0.01456, params: {'colsample_bytree': 0.65, 'subsample': 0.75}],\n",
       " {'colsample_bytree': 0.65, 'subsample': 0.75},\n",
       " 0.8944420050180849)"
      ]
     },
     "execution_count": 231,
     "metadata": {},
     "output_type": "execute_result"
    }
   ],
   "source": [
    "# tuning subsmaple and colsample\n",
    "# go in 0.05 increments around 0.8 or 0.7 respectively\n",
    "param_test6 = {\n",
    " 'subsample':[i/100.0 for i in range(75,80,85)],\n",
    " 'colsample_bytree':[i/100.0 for i in range(65,70,75)]\n",
    "}\n",
    "\n",
    "gsearch6 = GridSearchCV(estimator = XGBRegressor(\n",
    " learning_rate =0.1,\n",
    " n_estimators=1000,\n",
    " max_depth=3,\n",
    " min_child_weight=0,\n",
    " gamma=0,\n",
    " subsample=0.8,\n",
    " colsample_bytree=0.8,\n",
    " objective= 'reg:linear',\n",
    " n_jobs=-1,\n",
    " scale_pos_weight=1,\n",
    " seed=27),param_grid = param_test6,n_jobs=-1,iid=False, cv=5) \n",
    "                        \n",
    "                        \n",
    "%timeit gsearch6.fit(x_train,y_train)\n",
    "gsearch6.grid_scores_, gsearch6.best_params_, gsearch6.best_score_"
   ]
  },
  {
   "cell_type": "code",
   "execution_count": 232,
   "metadata": {},
   "outputs": [
    {
     "name": "stdout",
     "output_type": "stream",
     "text": [
      "4.63 s ± 74.1 ms per loop (mean ± std. dev. of 7 runs, 1 loop each)\n"
     ]
    },
    {
     "data": {
      "text/plain": [
       "([mean: 0.89268, std: 0.01739, params: {'colsample_bytree': 0.6, 'subsample': 0.7}],\n",
       " {'colsample_bytree': 0.6, 'subsample': 0.7},\n",
       " 0.8926797640665306)"
      ]
     },
     "execution_count": 232,
     "metadata": {},
     "output_type": "execute_result"
    }
   ],
   "source": [
    "# tuning subsmaple and colsample\n",
    "# go in 0.05 increments around 0.8 or 0.7 respectively\n",
    "param_test6_1 = {\n",
    " 'subsample':[i/100.0 for i in range(70,75,80)],\n",
    " 'colsample_bytree':[i/100.0 for i in range(60,65,70)]\n",
    "}\n",
    "\n",
    "gsearch6_1 = GridSearchCV(estimator = XGBRegressor(\n",
    " learning_rate =0.1,\n",
    " n_estimators=1000,\n",
    " max_depth=3,\n",
    " min_child_weight=0,\n",
    " gamma=0,\n",
    " subsample=0.8,\n",
    " colsample_bytree=0.8,\n",
    " objective= 'reg:linear',\n",
    " n_jobs=-1,\n",
    " scale_pos_weight=1,\n",
    " seed=27),param_grid = param_test6_1,n_jobs=-1,iid=False, cv=5) \n",
    "                        \n",
    "                        \n",
    "%timeit gsearch6_1.fit(x_train,y_train)\n",
    "gsearch6_1.grid_scores_, gsearch6_1.best_params_, gsearch6_1.best_score_"
   ]
  },
  {
   "cell_type": "code",
   "execution_count": 234,
   "metadata": {},
   "outputs": [
    {
     "name": "stdout",
     "output_type": "stream",
     "text": [
      "13.6 s ± 744 ms per loop (mean ± std. dev. of 7 runs, 1 loop each)\n"
     ]
    },
    {
     "data": {
      "text/plain": [
       "([mean: 0.89405, std: 0.01515, params: {'reg_alpha': 1e-05},\n",
       "  mean: 0.89089, std: 0.01548, params: {'reg_alpha': 0.01},\n",
       "  mean: 0.89003, std: 0.01403, params: {'reg_alpha': 0.1},\n",
       "  mean: 0.89186, std: 0.01442, params: {'reg_alpha': 1},\n",
       "  mean: 0.21531, std: 0.01993, params: {'reg_alpha': 100}],\n",
       " {'reg_alpha': 1e-05},\n",
       " 0.8940463094609022)"
      ]
     },
     "execution_count": 234,
     "metadata": {},
     "output_type": "execute_result"
    }
   ],
   "source": [
    "param_test7 = {\n",
    " 'reg_alpha':[1e-5, 1e-2, 0.1, 1, 100]\n",
    "}\n",
    "gsearch7 = GridSearchCV(estimator = XGBRegressor(\n",
    " learning_rate =0.1,\n",
    " n_estimators=1000,\n",
    " max_depth=3,\n",
    " min_child_weight=0,\n",
    " gamma=0,\n",
    " subsample=0.75,\n",
    " colsample_bytree=0.65,\n",
    " objective= 'reg:linear',\n",
    " n_jobs=-1,\n",
    " scale_pos_weight=1,\n",
    " seed=27),param_grid = param_test7,n_jobs=-1,iid=False, cv=5) \n",
    "\n",
    "\n",
    "%timeit gsearch7.fit(x_train,y_train)\n",
    "gsearch7.grid_scores_, gsearch7.best_params_, gsearch7.best_score_"
   ]
  },
  {
   "cell_type": "code",
   "execution_count": 236,
   "metadata": {},
   "outputs": [
    {
     "data": {
      "text/plain": [
       "([mean: 0.89404, std: 0.01449, params: {'reg_alpha': 1e-06},\n",
       "  mean: 0.89412, std: 0.01469, params: {'reg_alpha': 5e-06},\n",
       "  mean: 0.89405, std: 0.01515, params: {'reg_alpha': 1e-05},\n",
       "  mean: 0.89421, std: 0.01464, params: {'reg_alpha': 5e-05},\n",
       "  mean: 0.89254, std: 0.01327, params: {'reg_alpha': 0.0001}],\n",
       " {'reg_alpha': 5e-05},\n",
       " 0.8942064124400118)"
      ]
     },
     "execution_count": 236,
     "metadata": {},
     "output_type": "execute_result"
    }
   ],
   "source": [
    "param_test8 = {\n",
    " 'reg_alpha':[1e-6, 5e-6, 1e-5, 5e-5, 1e-4]\n",
    "}\n",
    "gsearch8 = GridSearchCV(estimator = XGBRegressor(\n",
    " learning_rate =0.1,\n",
    " n_estimators=1000,\n",
    " max_depth=3,\n",
    " min_child_weight=0,\n",
    " gamma=0,\n",
    " subsample=0.75,\n",
    " colsample_bytree=0.65,\n",
    " objective= 'reg:linear',\n",
    " n_jobs=-1,\n",
    " scale_pos_weight=1,\n",
    " seed=27),param_grid = param_test8,n_jobs=-1,iid=False, cv=5) \n",
    "\n",
    "\n",
    "gsearch8.fit(x_train,y_train)\n",
    "gsearch8.grid_scores_, gsearch8.best_params_, gsearch8.best_score_"
   ]
  },
  {
   "cell_type": "code",
   "execution_count": 237,
   "metadata": {},
   "outputs": [
    {
     "name": "stdout",
     "output_type": "stream",
     "text": [
      "\n",
      "Model Report\n",
      "Error : 0.011462\n",
      "0.9243533293794018\n"
     ]
    },
    {
     "data": {
      "image/png": "[encoded data removed]",
      "text/plain": [
       "<matplotlib.figure.Figure at 0x1a1a009fd0>"
      ]
     },
     "metadata": {},
     "output_type": "display_data"
    }
   ],
   "source": [
    "xgb3 = XGBRegressor(\n",
    " learning_rate =0.1,\n",
    " n_estimators=1000,\n",
    " max_depth=3,\n",
    " min_child_weight=0,\n",
    " gamma=0,\n",
    " subsample=0.75,\n",
    " colsample_bytree=0.65,\n",
    " objective= 'reg:linear',\n",
    " nthread=4,\n",
    " scale_pos_weight=1,\n",
    " reg_alpha=5e-05,\n",
    " seed=27)\n",
    "\n",
    "modelfit(xgb3, x_train)\n",
    "\n",
    "#max_depth: 3\n",
    "#min_child_weight: 0\n",
    "#gamma: 0\n",
    "#subsample=0.75,\n",
    "#colsample_bytree=0.65,\n",
    "#reg_alpha=5e-05\n",
    "\n",
    "#Model Report of previous model:\n",
    "#Error : 0.012411\n",
    "#0.9180879204191942"
   ]
  },
  {
   "cell_type": "code",
   "execution_count": 240,
   "metadata": {},
   "outputs": [
    {
     "name": "stdout",
     "output_type": "stream",
     "text": [
      "\n",
      "Model Report\n",
      "Error : 0.011633\n",
      "0.9232234246706942\n",
      "\n",
      "Model Report\n",
      "Error : 0.011633\n",
      "0.9232234246706942\n",
      "\n",
      "Model Report\n",
      "Error : 0.011633\n",
      "0.9232234246706942\n",
      "\n",
      "Model Report\n",
      "Error : 0.011633\n",
      "0.9232234246706942\n",
      "\n",
      "Model Report\n",
      "Error : 0.011633\n",
      "0.9232234246706942\n",
      "\n",
      "Model Report\n",
      "Error : 0.011633\n",
      "0.9232234246706942\n",
      "\n",
      "Model Report\n",
      "Error : 0.011633\n",
      "0.9232234246706942\n",
      "\n",
      "Model Report\n",
      "Error : 0.011633\n",
      "0.9232234246706942\n",
      "40.3 s ± 2.03 s per loop (mean ± std. dev. of 7 runs, 1 loop each)\n"
     ]
    },
    {
     "data": {
      "image/png": "[encoded data removed]",
      "text/plain": [
       "<matplotlib.figure.Figure at 0x1a2655b048>"
      ]
     },
     "metadata": {},
     "output_type": "display_data"
    }
   ],
   "source": [
    "xgb4 = XGBRegressor(\n",
    " learning_rate =0.01,\n",
    " n_estimators=5000,\n",
    " max_depth=3,\n",
    " min_child_weight=0,\n",
    " gamma=0,\n",
    " subsample=0.75,\n",
    " colsample_bytree=0.65,\n",
    " objective= 'reg:linear',\n",
    " nthread=4,\n",
    " scale_pos_weight=1,\n",
    " reg_alpha=5e-05,\n",
    " seed=27)\n",
    "\n",
    "%timeit modelfit(xgb4, x_train)"
   ]
  },
  {
   "cell_type": "markdown",
   "metadata": {},
   "source": [
    "## **GradientBoost**"
   ]
  },
  {
   "cell_type": "code",
   "execution_count": 262,
   "metadata": {},
   "outputs": [],
   "source": [
    "from sklearn.ensemble import GradientBoostingRegressor  #GBM algorithm\n",
    "from sklearn import cross_validation, metrics   #Additional scklearn functions\n",
    "from sklearn.grid_search import GridSearchCV   #Perforing grid searchc\n",
    "\n",
    "import matplotlib.pylab as plt\n",
    "%matplotlib inline\n",
    "from matplotlib.pylab import rcParams\n",
    "rcParams['figure.figsize'] = 20, 4"
   ]
  },
  {
   "cell_type": "code",
   "execution_count": 269,
   "metadata": {},
   "outputs": [],
   "source": [
    "def modelfitGB(model, x_train, features, performCV=True, printFeatureImportance=True, cv_folds=5):\n",
    "    #Fit the algorithm on the data\n",
    "    model.fit(x_train, y_train)\n",
    "        \n",
    "    #Predict training set:\n",
    "    status = model.predict(x_validate)\n",
    "    \n",
    "    #Perform cross-validation:\n",
    "    if performCV:\n",
    "        cv_score = cross_validation.cross_val_score(model, x_train, y_train, cv=cv_folds, scoring='neg_mean_squared_error')\n",
    "    \n",
    "    #Print model report:\n",
    "    print(\"\\nModel Report\")\n",
    "    print(\"Error : %f\" % metrics.mean_squared_error(y_validate, status))\n",
    "    print(model.score(x_validate, y_validate))\n",
    "    \n",
    "    if performCV:\n",
    "        print (\"CV Score : Mean - %.7g | Std - %.7g | Min - %.7g | Max - %.7g\" % (np.mean(cv_score),np.std(cv_score),np.min(cv_score),np.max(cv_score)))\n",
    "        \n",
    "    #Print Feature Importance:\n",
    "    if printFeatureImportance:\n",
    "        feat_imp = pd.Series(model.feature_importances_, features).sort_values(ascending=False)\n",
    "        feat_imp.plot(kind='bar', title='Feature Importances')\n",
    "        plt.ylabel('Feature Importance Score')"
   ]
  },
  {
   "cell_type": "code",
   "execution_count": 270,
   "metadata": {},
   "outputs": [
    {
     "name": "stdout",
     "output_type": "stream",
     "text": [
      "\n",
      "Model Report\n",
      "Error : 0.012016\n",
      "0.9206932441371453\n",
      "CV Score : Mean - -0.01799248 | Std - 0.003100969 | Min - -0.02256519 | Max - -0.01473533\n"
     ]
    },
    {
     "data": {
      "image/png": "[encoded data removed]",
      "text/plain": [
       "<matplotlib.figure.Figure at 0x1a2b8f5080>"
      ]
     },
     "metadata": {},
     "output_type": "display_data"
    }
   ],
   "source": [
    "# baseline model\n",
    "\n",
    "gbm0 = GradientBoostingRegressor(random_state=10)\n",
    "modelfitGB(gbm0, x_train, features)"
   ]
  },
  {
   "cell_type": "code",
   "execution_count": 279,
   "metadata": {},
   "outputs": [
    {
     "data": {
      "text/plain": [
       "([mean: -0.01956, std: 0.00261, params: {'n_estimators': 700},\n",
       "  mean: -0.01952, std: 0.00280, params: {'n_estimators': 800},\n",
       "  mean: -0.01946, std: 0.00271, params: {'n_estimators': 900},\n",
       "  mean: -0.01952, std: 0.00267, params: {'n_estimators': 1000}],\n",
       " {'n_estimators': 900},\n",
       " -0.019460733629371244)"
      ]
     },
     "execution_count": 279,
     "metadata": {},
     "output_type": "execute_result"
    }
   ],
   "source": [
    "param_test1 = {'n_estimators':[700,800,900,1000]}\n",
    "gsearch1 = GridSearchCV(estimator = GradientBoostingRegressor(learning_rate=0.1,\n",
    "                                                              min_samples_split=500,\n",
    "                                                              min_samples_leaf=50,\n",
    "                                                              max_depth=8,\n",
    "                                                              max_features='sqrt',\n",
    "                                                              subsample=0.8,\n",
    "                                                              random_state=10), \n",
    "param_grid = param_test1, scoring='neg_mean_squared_error',n_jobs=4,iid=False, cv=5)\n",
    "gsearch1.fit(x_train,y_train)\n",
    "\n",
    "gsearch1.grid_scores_, gsearch1.best_params_, gsearch1.best_score_"
   ]
  },
  {
   "cell_type": "code",
   "execution_count": null,
   "metadata": {},
   "outputs": [],
   "source": [
    "param_test2 = {'max_depth':[range(5,16,2)], 'min_samples_split':[range(200,1001,200)]}\n",
    "gsearch2 = GridSearchCV(estimator = GradientBoostingRegressor(n_estimators=900,\n",
    "                                                              learning_rate=0.1,\n",
    "                                                              min_samples_split=500,\n",
    "                                                              min_samples_leaf=50,\n",
    "                                                              max_depth=8,\n",
    "                                                              max_features='sqrt',\n",
    "                                                              subsample=0.8,\n",
    "                                                              random_state=10), \n",
    "param_grid = param_test2, scoring='neg_mean_squared_error',n_jobs=4,iid=False, cv=5)\n",
    "\n",
    "gsearch2.fit(x_train, y_train)\n",
    "gsearch2.grid_scores_, gsearch2.best_params_, gsearch2.best_score_"
   ]
  },
  {
   "cell_type": "code",
   "execution_count": null,
   "metadata": {},
   "outputs": [],
   "source": []
  },
  {
   "cell_type": "code",
   "execution_count": null,
   "metadata": {},
   "outputs": [],
   "source": []
  }
 ],
 "metadata": {
  "kernelspec": {
   "display_name": "Python 3",
   "language": "python",
   "name": "python3"
  },
  "language_info": {
   "codemirror_mode": {
    "name": "ipython",
    "version": 3
   },
   "file_extension": ".py",
   "mimetype": "text/x-python",
   "name": "python",
   "nbconvert_exporter": "python",
   "pygments_lexer": "ipython3",
   "version": "3.6.4"
  }
 },
 "nbformat": 4,
 "nbformat_minor": 2
}
