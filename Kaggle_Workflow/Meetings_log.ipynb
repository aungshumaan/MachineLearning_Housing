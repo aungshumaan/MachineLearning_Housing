{
 "cells": [
  {
   "cell_type": "markdown",
   "metadata": {},
   "source": [
    "## First meeting 08/16/18\n",
    "\n",
    "### What did we discover?\n",
    "- multicollinarity: \n",
    "- distribution of SalePrice needs to be transformed: Nacho did nice bc \n",
    "\n",
    "### Next step:\n",
    "- Alex andAungshuman make groupby correlations (based on themes)\n",
    "- Nacho is trying group neighborhoods\n",
    "- Melanie looks into ensemble ands Flask methods\n",
    "\n",
    "3. Tableau for presentation"
   ]
  },
  {
   "cell_type": "code",
   "execution_count": null,
   "metadata": {},
   "outputs": [],
   "source": []
  }
 ],
 "metadata": {
  "kernelspec": {
   "display_name": "Python 3",
   "language": "python",
   "name": "python3"
  },
  "language_info": {
   "codemirror_mode": {
    "name": "ipython",
    "version": 3
   },
   "file_extension": ".py",
   "mimetype": "text/x-python",
   "name": "python",
   "nbconvert_exporter": "python",
   "pygments_lexer": "ipython3",
   "version": "3.6.4"
  }
 },
 "nbformat": 4,
 "nbformat_minor": 2
}
