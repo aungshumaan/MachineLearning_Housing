{
 "cells": [
  {
   "cell_type": "markdown",
   "metadata": {},
   "source": [
    "### Feature Engineering of the locations with data from ESRI - Demographics"
   ]
  },
  {
   "cell_type": "markdown",
   "metadata": {},
   "source": [
    "Importing the data and shapefile"
   ]
  },
  {
   "cell_type": "code",
   "execution_count": 30,
   "metadata": {},
   "outputs": [
    {
     "data": {
      "text/plain": [
       "(1460, 81)"
      ]
     },
     "execution_count": 30,
     "metadata": {},
     "output_type": "execute_result"
    }
   ],
   "source": [
    "#CSV datasets of interest\n",
    "\n",
    "import pandas as pd\n",
    "import seaborn as sns\n",
    "import matplotlib.pyplot as plt\n",
    "import matplotlib as matplot\n",
    "import seaborn as sns\n",
    "\n",
    "train =pd.read_csv('train.csv')\n",
    "test = pd.read_csv('test.csv')\n",
    "\n",
    "train.shape"
   ]
  },
  {
   "cell_type": "code",
   "execution_count": 6,
   "metadata": {},
   "outputs": [
    {
     "data": {
      "text/html": [
       "<div class=\"item_container\" style=\"height: auto; overflow: hidden; border: 1px solid #cfcfcf; border-radius: 2px; background: #f6fafa; line-height: 1.21429em; padding: 10px;\">\n",
       "                    <div class=\"item_left\" style=\"width: 210px; float: left;\">\n",
       "                       <a href='http://JLLesp.maps.arcgis.com/home/item.html?id=fe6059b7e4c74de9bc419389320c4842' target='_blank'>\n",
       "                        <img src='data:image/png;base64,/9j/4AAQSkZJRgABAQEAAAAAAAD/2wBDAAgGBgcGBQgHBwcJCQgKDBQNDAsLDBkSEw8UHRofHh0aHBwgJC4nICIsIxwcKDcpLDAxNDQ0Hyc5PTgyPC4zNDL/2wBDAQkJCQwLDBgNDRgyIRwhMjIyMjIyMjIyMjIyMjIyMjIyMjIyMjIyMjIyMjIyMjIyMjIyMjIyMjIyMjIyMjIyMjL/wAARCACFAMgDAREAAhEBAxEB/8QAHwAAAQUBAQEBAQEAAAAAAAAAAAECAwQFBgcICQoL/8QAtRAAAgEDAwIEAwUFBAQAAAF9AQIDAAQRBRIhMUEGE1FhByJxFDKBkaEII0KxwRVS0fAkM2JyggkKFhcYGRolJicoKSo0NTY3ODk6Q0RFRkdISUpTVFVWV1hZWmNkZWZnaGlqc3R1dnd4eXqDhIWGh4iJipKTlJWWl5iZmqKjpKWmp6ipqrKztLW2t7i5usLDxMXGx8jJytLT1NXW19jZ2uHi4+Tl5ufo6erx8vP09fb3+Pn6/8QAHwEAAwEBAQEBAQEBAQAAAAAAAAECAwQFBgcICQoL/8QAtREAAgECBAQDBAcFBAQAAQJ3AAECAxEEBSExBhJBUQdhcRMiMoEIFEKRobHBCSMzUvAVYnLRChYkNOEl8RcYGRomJygpKjU2Nzg5OkNERUZHSElKU1RVVldYWVpjZGVmZ2hpanN0dXZ3eHl6goOEhYaHiImKkpOUlZaXmJmaoqOkpaanqKmqsrO0tba3uLm6wsPExcbHyMnK0tPU1dbX2Nna4uPk5ebn6Onq8vP09fb3+Pn6/9oADAMBAAIRAxEAPwD31XDUk7gJu+bAHTrTAUE9+tADV4HHPJNIAjJYt1pIB4HPWmBWnCm9ts5P3sDHHSmBP5aEfdFAFZVWG6AOMN1J9aQupK4QfdYAegOKLDOW8VWOq6gthb2Eluts1wBdJMCd6e35H06jms5qba5TswssNFT9vFvTS3fzLR8M6Msok+wruCFMbjgggj19Gb8zVnIaSLHBsijXEeMAemB/n8qAOVttHv8AVdW1E6zbJDaRTg2Rt5du4DIyQO+MenJrODld326HXiI4ZU6boybk171+j8jYOipb6fcwWM8sNxNAYUndt7IfmKtz1ILGqle2hzQcVNSmrpPbuR6JoCWWj29tqHkX11HkvO8IyxJJ7+g4z14qYKySk7s0xNSnVqynSjyxey7GjBbQWrKtvBHGu4EqihQcfSqjoznZqq6y4xyO4rQadxskOeUwrfzqXHsBDl8kOeewFQ2wJoPlGCBVxAkZ1Xqe2abdgFUhhkd6YAfvfhQAGgCGNSuD1AqIoBysfNOQcHvVANmnjhBaVgo6CgBIZkZmUNll6g0XAJSUxt6k0rCbsKsuW2uMHvRcLkU4xfWxHYNx68U2MtA5GaE7gRPEsj5zyOlDQNXGoSrMpOQQe1JE9SpKgYbmJIRtw6dqSKGFo7hTtl8pl65xkUxi+RMODcZ+Xr5Y6560CBIJRHg3D7u5CjrSVkAo3Iu0szMO5FS2r2AoXWuWtjeNayiUyrGJTtTI2lgvX1yRTVgDTdZtNXaY2vmEQsASyFQevQnr0NNoZqhhxsLB29+KcZENF0MG6U07lEbxhvmx83ak43ArtIyE4zuqG7AMjs/OO9ppD6/PTSuBdUbPkU8Yq1oAEkOMnPHYUwF3r6n8qAIvIJypb5PSpsKw0jY52EDA5HWk9At2Kt+wkgVnUYVhz+NF7gtxbcJ9pnGMEkcE9OtNjaLKphwSc46UvQmw+SNX+Zevem12G0RFNjqec+uc0hbFiNgyDpzVIoTy8NyevpSsBDN+7O4HtRboS9DF8RpqUug3kWkRRS3ki7VWRgAQeD1I5xms5OXL7u514RUHVSxDah1tuZ9l4StWtt99DtnlRRMsUzlQ2DuA56ZJq03ZXManLzvk26egmoX1l4Qt4bcXZRrhgkIuCz72yMkkDgY7+/SlKcY25upth8JWxHN7KN+VXfoaDTa7vYrbWJjwMHzWz07jFM5yppPiG5vdbvdKvdPe3ktQD5+f3b5PGM/54NZxnebi1sddXCqnh4VudNy6dUc9qEEuieMkj0+/v/P1mTczGNZIoxnpz+P04qNIVOvvHY+fFYK/upUvvdzpoLTVlvY/O1ZXiE25k8kLuT5sLn15X8q6DyDWlYR7m5wvPWs5Pl1JaJbW6WQEB8kd8impJq6FFl5HV14I5960TuURzIuwvjkcnFKS0AjiZgpbtjpUxAkWQlskYFUpXAJHGUK85p3AXzCSSAPzouBLtHoKYEYTa5wASfWkAuz/AGVx6YpgII1MfQA0mrgLgLxn5jRawDfkAJJ/Ck9AIHkUsFU5NK+omSRqhcqQOBTW4yCe7iilSPzURuSckA4pOXQTdh0Lx3KkrOrtyCAQaSknsJWZG4Ec5XPA7Z9qLq4J2dh4w4GG/CndF3MC9v8ARJ9Q8u+e1ke3PyidQxRwcZGRx9aGk9yoVJwvytq5pabqtjqkbG1uUmG1WJU9Awyv5imSUNU0fS7+7+03isZFRVyrEcAtjp6FiamzvcRH/wAI9pXzSJ9oG1ucStwSe3NN3A15UxJGwVyN69BTQxt08ZRomnSORgOCRkg8Dg+p4rOS0JZBb2xhDfOvToFA/lWUU0ncjlHrdwwXCCQleM/dJpL3ZXEnZ6mqlzDNCHRiQR12mupNNGlytLcx26je+Bnkms20nYGxLeZLsYjcMAcEjrQtQuE6lLiNV/uN0PfI7Vr0GW7dSoO4knA60wJRIrdGFACj73XPFAC9BQA1D8o4P4UADeoU5+lADCFJ6E/WlZAV5E5xg5JrNoBxVtpwpJFPXqKxQ1CzFyQVIV9/dM/hzWVVEyVx9pZfYHZzKrBsDhAtNQ5HcajYq6jby3N2ZAYsYGzIORx7GpkuZsiSd7ixQTxh42kVFdSAyZJVj35pQTTuyoaO7KnhvQ30nTmt768/tGXzGfzpU5APbnPufxNa04uMbN3O7GYiniKvPTgoLsjYEMEIPlxRpu7IoGfyqm7HKRNKykbQWLdhTtcQ2SQeWQ6MMYOffdjFCQE0qeYUB/hYN9cUr2A5pNEv7/xTeXOrRWsunBFW0x99cev5k/Ws48/M77HZVeF+rwVNP2nXt8jWttHsdPuXNrbCORkIJDdifr7CrkmziaG3MM7yBkHUAf6wr/KsWnqZyVtTb08MLGMNw3PfPet6XwI0jsZF/FKbqYgNsVhzvI6gf/XqZxTeqJmn0DRtwuOeVwR98vzWVJWmKO5pzktfxfK2AhySpx2rqZoWNv7wjGF45z1oAcx8sZCFh6ChsQ3fCQWJUAdc8YouhjBKkuViZj9Dn+dAXHQl8H5+B2Io1Aabl1XJQH6Gi4FC88RWtlcGGaGfcFDEpHvHJx25/Slcdiq3iqwCFvIvHA9Ldhnnb39+KPURtpPHJGGVwNwyBnBpgJEgQyO3POfWpSAY8qE8DB6DiiTuBmajOI4vkcByMDccc/Ws+pLRmCeQqG85x3AMwGf0p2EbFpMrpuDAnb2OeacEwTsTbw/+yRxzQ1fYfMuo4KsanIHpnNHNZFEM4LWzFeTuUfqKpdwJe/JFSAgYDtzRewEWWa5Y4GCvp7nvQ3dALIpwMkcelTKyVyZK6Hx3UkSBBtwPUUoyktFsSpk0IMlxO55GVPTrxWtr6mhYcKgDKAD9KrzAhLs3Vst64pDHLI0m1SAPWgRZwc9entVARyQJL/rFVh6FaTVwBI9jHaqKMYGBQBGpZV3Z+97UXEQFWVThl49qm6HcyLLw5a2viS71yOWY3N0gjdWb5QBjoPwFRGmlNyOyeNqVMPHDtLli7ruafl3G4YePac8MDWmhyEcgljR3I3hUJ2RjliPSpdgSu7HN6Nc6trmmS3hmuNKYu6rbyxA49Dk4OPwqKdTmjdqx1YzDxw9XkhNTXdG/YwTW8bie8a4ZmyGYAYHpxVXRyFhlViB1Pap0AbJCIsbgrZ9KqML6ha4sBHzFRitGkOyRI0Qc98561DitxNJlKVJhJjfGcAdj1rOXs76kN2MLxPrs+gxpLM8AtJtqLuzu8zOT07YFN1I017x2YTCVcXJwoq7Sv8i6ZvEpAMVrYE7yQS7crnj9MfT3qtDmNWS4W3tVlu3WM4+b0zjJ/Dgn6ChICGHWNPnRmW8h2j+IvgHkg4J68girlFIC3BJFd7TDIjxsfldDkH8axb5nyjsTnTzg/vP0p+wXcjlIraMmd2DAFsDpnpVRlzoE+g6UOvO6PO4jkflV3WxQkaSmQl2QjHGB370hkzAp8zHGByaLCLmasAxnrQAYoAjRl2jg4HTigBsmHUhR14zik0BTDjzCQcYOPrUX6iQpdSPvA4GSe1Pcoy5NfsIZDG1zCCOvzdOM/njmsnJroQ5JFiN1vIlmRgY26Y70rcway2JFhxzv4qVTs9xWZLko24Y9AK2USlqQzTZ+Z2CnoK2SsiyPz4wQTIgPXrQBOk7Agk7hik49gKc0tw0zssaAE/LkmuOrB81zKSdw8hL6MxXttBJGuHQMN3zDvyKuLukmVSqTg3yuxoZGRx/OtLjMPXdH1DVL/TpLW+WC0gkLXEJTPmrxx+WR+NTKMnJOLsdmHrUIUqkakOZtaPszQXSNNWMR/YYNingbBgcn/E1fN3OMmgjS0MaQxKkSn5UUYAFZpXmgbsjUim82MtsIwcYrqnHlIhPmVyskfluQc5PSsVDljoJaSLCxIBgLkjvVKKNCGRivIXDY6E0DHNIjJiVRk/eA5xQ3qItd8VQC0AFAEIztAL49KQEO9yBgkc9hSuMikjKNzlg2eMfSpJsZms295e6VdW2n3C21y6bY5SMhT/nioldppaM2w8oU6sZVY80U9V3Myy8KwLbWxvxHPdpGokmVQN7AYz+XFRyyaV2TW5J1ZSgrRb0XZGxG1np8aWomjQqcBWYZyef/AK9aWsiErEouLdmWPz4y56KGGTjH+IosBO6kRk4z6VpFWGUp4vOTYTg9QdoP860GV2siygF14PH7peB6dKQFxQOB0HtTAVxggDjNc9dO6SIm7DliUDgkEimkkCXcotqmn25kL3uWhLlxuzjBwePYirGOs9dsL9nW1ulmYMFbap4z0/nQl3A0A/qDnNJoZKMrgcZB4yaAHbpiT+8AI9qNb7ifkEcUkoLSOQBnpWkoxWiM43erGiMRkgbiOvJrNaGopwB8wx2NMAmz5Zycjrg0ICzBJFOnmRSK6noVOaoRLtHbP50AN2HdkucelAEaKrHucZpAVC4UYJJz0FRKSjoDZj6v4htdO3+c0quhwdqF/r0+tNPuBPpmqRamv7lhIqAbmHHcjP6UOwGl1JoGc1aaBeXGu6lPrbW11YyOGtYwpyvbn8MDvmoipqT5np0OuvPDSo01Si1JfE+/oasPh/SYHWSCxiSRX83PP3uOfr8o/KrOQtmQH5eT2p2aCxjeItVttCto5ZrgRSTSCOIOThjnnp0471MqijbmZvh8LWxDapRvZXfoMWLXwyM8VuFzggSH39/pV3MDZdVUg8A9+aaY0V5p1j27gxyf4RnFRVV7epFTYdLI9zYTC1kMMpRljdl+62Dg4NZ3utC6UoqScldGX4f0b7HpyRau1teXjs5kmCD5wxJI9/eqpqSjaTuzoxdSjUrOVCPLHsbdtY2lozm2tooS4G7y0xux0zirOYlC5yFH6UATR26zRtljg5zihIBfsEfXzJBjph8DpiqEItmkkasJJQR33mhoUXdCLHhQCzEgYJPepKDbhgCTj+dIAVd77SeD2poB8un27sXUGKQ/8tIjtP8A9f8AGqERg39uMfJdKO/3H/wP6UAPh1CGZthYxS/885BtP69fwoAmRhsySAeaAK209duffFQ0MxtG8PWuiT6lNDPPKb6bzXWZtwU88D8z+lRCmottdTqxOLniIwjJJcisrfqaqosbjy1VRjGAMVZygM884pXAlKlxjoc4oYhRCoB3Sj8DTUWBV+TGARmtdEitiK6srLUEjW7t4p/LbegkTO1vUVk4qWpdOrOndwdr6Be3kVhZS3MzokcaksXbaPzqHpqyIQlOSjFXbMk61dSxRyW2mSTxyAFJVkGxgeh+laQemg3FxbjJWaLlux1C0R7i0eB8/wCrduR+VOaco2RMldF6K2ghgChARycE5wTUJKKsiF7o5GiYgCMJjoaUZSfQOdEnyE/eqtWPmRJzuAGOmaEUWbchoVIXGe2KsQ852njPXigTGRAiHjp2FOQobEQVyCMY5NQWQySGOVEK8kHmk9gJIstIBkc0RYi2M5qwE28/WgBssMUybJY0dfRhmgCktlLAuLW5ZRziOX51/DuPzoAQ3k8aFbiAIR/Ep3KffPFIAiZZ4g6MroehBzSGSABQCQfyoArLcFtzGCUcjsD2+tFgHm73R5WKXPowxn9aOXUVhm/K5KkZ7EVqWZ08ZeZiefQ+UTx9QawcJGdmW7YHyUGD7DaV4+hrSKstSlojL1DUNC1C2u9N1GZDGx8mSN8rkg5wPxU9PSpqpSjZmtKtOjNVKbs0WdLm0w2McGmPGba3XylCHhccd/51MLR90idSVSbnN3b1LiMGbAIOOuK2ETXOVtgUXL7eAO9YzWpEjM/00ncDKBjAHyk9uaUlYhNMuWTS5YTK/HRn28/lSTtsOyZdXglskEDvWhVn3La7mUbW/SmmFmIXdQQw4x94CmhNtbhG4SDc3AFVa7sJO0bsbJdRrFvAZjnAVRyTUtWdik7q5XAklxLIUL8qAo+6PrRJW3BNPYkhUrIuQOv9KlFFokjsPzqhDQWOeP1oADuzz/OgBEBx0/WgB5OByP1oApS2FvI5dAYZW6vEdpP17H8aV0BCVvoRsIW5jGcY+Rx9R0P6UAMF/AhCyMYWB5WVSh/WlYYj3tpkf6VAcDtIKuI0yNr62YEC5i/BxTuA2O8tY4UUzxDCgYZwD0oTBMLm5TygYyzhgQGi+bFZ1Z8sboTlbUxPDOltpOntaXMs19JLM0nnXMXK57c59M/UmsKClazZ0YvFxxNXnjBQ0SsjbaJfN2BERduSAOv1/WuhQ11OZIkA247Y9BVlE7bnjQADp+VYzTeiJauPIXpsGTTtpYLIQx/N8owR70KKQWHE5flRg+tMZYtywToMHnrQmIdLNsjJG0tj5QTjNVuBUjnuVhXEMbZ5YF8Y56UN6kxtYHmRHBmMcew/KfMHI96WpSRGdTskXaJ4ic5+Rs/yptt7iSS2GNqce9dkczE+kLY/lSSGaoIbvmmAMQMZOPegBGbIwpyTx9KBXIrR2aFXfPJI5470AOfbJyc7RwPelJ6BuRow37Swx2PrU2swRYyA4G7PtV3GObbjLYx70AVzPCGYBd3PZeKnmQXEcRuCGA5GB2xTWoEOYUt44lXO3H3gPSpckBUltBcHzI1WBhyHA5P1HpU2utReQ1bhYvkuEZCvcDKt7g/41UFy7DirDGuYDJuDFhtA+VST+gq0x3FM+4fJBOx9oyP54p3QXJY57hhtSykyB/E6j+pqQJAl6WB8mJeccyE/0osBI0F6RuLWy/gT/hRYRWkt7tn2y3ATj+GP/EmkMebaRIgTf3DH+6Nq/wAhUylyq9hMnhsY2iVzJMxJ/ikLfzqoO6uCGHTrYyMohU4IzuJPFUmrakO99CZbGAKPLgjBB54FStUWSrAQwBAUY/hp2AhE7LcGNm3pnHIrocE43RzKo1OzZdZAzA8g+oNYHRYQRqDnkn1NAWHHpxQMq2CEWSq4OcnO7r1oAsMilcY7YpNXApoqvJj068UrNb9SFZ6Ie0TRrvyWYnmiyK1GsHlPzngdB71ItWPaIIu4vtz1GaqzHYgJPA81lxycUg1IwcoByAxwaQamP4l1ltNm02wijuRNfzeWk0UYcR4K53A9jn8sntWcp8rStudeHwjrU6lRSS5FfV7+hYhsNXjuQ8urJJFwTGLUDIB55z3HFbHMapbawyCM0ASwr5jnBIHWhAQyJJvzHO0eOOAOaL2AjZ5No3XLLg4zwKLhYseeZFwrK49ODRcLFa+kuHUNCVLLnO/IGPwqWxMpfbJfKyTDuyRgs+OPwpCNWyeYKyz7c9QFJP6miLsCJZeCHHUH9DVLewpdyWM4YiiIyTuKsZC1qrTCTp3x71aqNRsZumnLmJcr6j86g0F3D1FABkeooAhjaC3jCl0QckZOO9ACtcwDgzR9/wCIUAMhmg2rtkjycdGHNLUSViOSeOWe3McqspYg7Wzng0MZKB8xAUE+ppIBroQc5H86UrgQRxea5bB254yeDUpNgTGFPLG5+QOOelVZAQqM9elFhilc7cD+I/ypPdCFEe4EnqMYzTYyzGFAwn5k00+whNiqhLDdn0ppAZuowTKR5ZLKf4dgOfzqWrFENtDMJQcGNMfd8tRu/I0gL21c888etMTE+XftPccc1N1ewtCzbRrhj1yaqKQEghRoxkdh3qkrCauROgEmASe5J7UN2RDWpYBB20I0HUwCgBO9AC4oAiMMcg/eRq31GaAD7PAOkKf98igAW3hBBESAjphRQBXniRLq02KqjecgDr8poAtkbcfWlsAi/NnI70J3AUKo4CjFMCvcKPLBx0WokA1I1/djHU07DJSFhIwCc560xAsYbIPsTjvStcCTaFwAKdgGnjHpSYENwd0uD0oY0JE2xh37UkDIriMC7Rgex/pTYjy/xX4t1ez8RxRWF00EQvPs7RkBwwwmTyOOvvXNOq4tJLqezg8shWpznKW0XL7j0jRYbyN3+037XCKoVVMYXHA5JHU11I8Y2FGFA9qYEDcSuPoama0RC3Y9OQRSiWS1YH//2Q==' width='200' height='133' class=\"itemThumbnail\">\n",
       "                       </a>\n",
       "                    </div>\n",
       "\n",
       "                    <div class=\"item_right\"     style=\"float: none; width: auto; overflow: hidden;\">\n",
       "                        <a href='http://JLLesp.maps.arcgis.com/home/item.html?id=fe6059b7e4c74de9bc419389320c4842' target='_blank'><b>AMES</b>\n",
       "                        </a>\n",
       "                        <br/>AMES<img src='http://JLLesp.maps.arcgis.com/home/js/jsapi/esri/css/images/item_type_icons/featureshosted16.png' style=\"vertical-align:middle;\">Feature Layer Collection by nacho.moreno_JLLesp\n",
       "                        <br/>Last Modified: August 13, 2018\n",
       "                        <br/>0 comments, 0 views\n",
       "                    </div>\n",
       "                </div>\n",
       "                "
      ],
      "text/plain": [
       "<Item title:\"AMES\" type:Feature Layer Collection owner:nacho.moreno_JLLesp>"
      ]
     },
     "execution_count": 6,
     "metadata": {},
     "output_type": "execute_result"
    }
   ],
   "source": [
    "#Shapefile of interest we will enrich\n",
    "\n",
    "#We will enrich the dataset\n",
    "\n",
    "from arcgis.gis import GIS\n",
    "from IPython.display import display\n",
    "from arcgis.geoenrichment import *\n",
    "\n",
    "gis = GIS()\n",
    "\n",
    "#We search for the layer\n",
    "\n",
    "search_results = gis.content.search('title:AMES', 'Feature Layer')\n",
    "\n",
    "AMES_neighborhoods = search_results[1]\n",
    "\n",
    "AMES_neighborhoods\n",
    "\n"
   ]
  },
  {
   "cell_type": "markdown",
   "metadata": {},
   "source": [
    "Create a simple map to visualize the data"
   ]
  },
  {
   "cell_type": "code",
   "execution_count": 7,
   "metadata": {},
   "outputs": [
    {
     "data": {
      "application/vnd.jupyter.widget-view+json": {
       "model_id": "9755393c97e441da8c3d935508c43a93",
       "version_major": 2,
       "version_minor": 0
      },
      "text/html": [
       "<p>Failed to display Jupyter Widget of type <code>MapView</code>.</p>\n",
       "<p>\n",
       "  If you're reading this message in the Jupyter Notebook or JupyterLab Notebook, it may mean\n",
       "  that the widgets JavaScript is still loading. If this message persists, it\n",
       "  likely means that the widgets JavaScript library is either not installed or\n",
       "  not enabled. See the <a href=\"https://ipywidgets.readthedocs.io/en/stable/user_install.html\">Jupyter\n",
       "  Widgets Documentation</a> for setup instructions.\n",
       "</p>\n",
       "<p>\n",
       "  If you're reading this message in another frontend (for example, a static\n",
       "  rendering on GitHub or <a href=\"https://nbviewer.jupyter.org/\">NBViewer</a>),\n",
       "  it may mean that your frontend doesn't currently support widgets.\n",
       "</p>\n"
      ],
      "text/plain": [
       "MapView(basemap='streets-vector', layout=Layout(height='400px', width='100%'), zoom=11.0)"
      ]
     },
     "metadata": {},
     "output_type": "display_data"
    }
   ],
   "source": [
    "AMES_map = gis.map(location =[42.019676, -93.624323], zoomlevel = 11)\n",
    "AMES_map.basemap = 'streets-vector'\n",
    "AMES_map.add_layer(AMES_neighborhoods)\n",
    "\n",
    "AMES_map"
   ]
  },
  {
   "cell_type": "markdown",
   "metadata": {},
   "source": [
    "We investigate which datasets we will be getting"
   ]
  },
  {
   "cell_type": "code",
   "execution_count": null,
   "metadata": {},
   "outputs": [],
   "source": [
    "usa = Country.get('US')\n",
    "usa.properties.datasets\n",
    "\n",
    "datasets_esri = usa.data_collections\n",
    "\n",
    "#These are the datasets we will be using\n",
    "\n",
    "datasets_esri.loc['populationtotals']['analysisVariable'].unique()\n",
    "datasets_esri.loc['lifemodegroupsNEW']['analysisVariable'].unique()\n",
    "datasets_esri.loc['5yearincrements']['analysisVariable'].unique()\n",
    "datasets_esri.loc['householdincome']['analysisVariable'].unique()\n",
    "datasets_esri.loc['businesses']['analysisVariable'].unique()"
   ]
  },
  {
   "cell_type": "markdown",
   "metadata": {},
   "source": [
    "We finally enrich the data"
   ]
  },
  {
   "cell_type": "code",
   "execution_count": 8,
   "metadata": {},
   "outputs": [],
   "source": [
    "from arcgis.features import enrich_data\n",
    "from arcgis.features import FeatureLayerCollection\n",
    "\n",
    "data_collections = ['populationtotals','lifemodegroupsNEW','5yearincrements','householdincome','businesses']\n",
    "\n",
    "analysis_variables= ['S12_BUS', 'S16_BUS', 'S24_BUS','MEDHINC_CY','AVGHINC_CY','PCI_CY','MEDAGE_CY','TLIFECODE','TLIFENAME','TOTPOP_CY']\n",
    "\n",
    "AMES_enriched = enrich_data.enrich_layer(AMES_neighborhoods, buffer_type='StraightLine', distance=1 ,units='Kilometers', \n",
    "                                         data_collections= data_collections, analysis_variables = analysis_variables)\n",
    "\n",
    "#How to transform a feature collection to a df, first we 'query' teh feature collection adn a \n",
    "#Featureset is returned, then we use the df method to transform to a pd dataframe \n",
    "\n",
    "#Documentation here https://esri.github.io/arcgis-python-api/apidoc/html/arcgis.features.toc.html#featurecollection and\n",
    "# here: https://esri.github.io/arcgis-python-api/apidoc/html/arcgis.features.toc.html#featureset\n",
    "AMES_enriched_df = AMES_enriched.query().df\n",
    "\n"
   ]
  },
  {
   "cell_type": "code",
   "execution_count": 10,
   "metadata": {},
   "outputs": [
    {
     "data": {
      "text/plain": [
       "'C:\\\\Users\\\\natxo\\\\OneDrive\\\\4_NYCDSA\\\\4_NYCDSA_Bootcamp\\\\0_Projects\\\\3_Machine_Learning\\\\3_EDA\\\\Shapefile\\\\Neighborhoods_enriched2.shp'"
      ]
     },
     "execution_count": 10,
     "metadata": {},
     "output_type": "execute_result"
    }
   ],
   "source": [
    "#We export teh shapefile for further analysis\n",
    "\n",
    "#For importing ArcPY you need to jsut open the jupyter notebook from teh browser and not from the Anaconda distribution\n",
    "import arcpy\n",
    "\n",
    "AMES_enriched.query().save(save_location= r'C:\\Users\\natxo\\OneDrive\\4_NYCDSA\\4_NYCDSA_Bootcamp\\0_Projects\\3_Machine_Learning\\3_EDA\\Shapefile',\n",
    "     out_name='Neighborhoods_enriched', encoding=None)\n",
    "\n"
   ]
  },
  {
   "cell_type": "code",
   "execution_count": 9,
   "metadata": {},
   "outputs": [
    {
     "data": {
      "text/html": [
       "<div>\n",
       "<style scoped>\n",
       "    .dataframe tbody tr th:only-of-type {\n",
       "        vertical-align: middle;\n",
       "    }\n",
       "\n",
       "    .dataframe tbody tr th {\n",
       "        vertical-align: top;\n",
       "    }\n",
       "\n",
       "    .dataframe thead th {\n",
       "        text-align: right;\n",
       "    }\n",
       "</style>\n",
       "<table border=\"1\" class=\"dataframe\">\n",
       "  <thead>\n",
       "    <tr style=\"text-align: right;\">\n",
       "      <th></th>\n",
       "      <th>Average Household Income</th>\n",
       "      <th>Median Age</th>\n",
       "      <th>Median Household Income</th>\n",
       "      <th>Neighborhood</th>\n",
       "      <th>Per Capita Income</th>\n",
       "      <th>Food Stores (SIC54)</th>\n",
       "      <th>Eating &amp; Drinking (SIC58)</th>\n",
       "      <th>Hotel/Lodging (SIC70)</th>\n",
       "      <th>Dominant Tapestry LifeMode Group Code</th>\n",
       "      <th>Dominant Tapestry LifeMode Group Name</th>\n",
       "      <th>Total Population</th>\n",
       "      <th>Buffer Distance</th>\n",
       "      <th>Buffer Units</th>\n",
       "    </tr>\n",
       "  </thead>\n",
       "  <tbody>\n",
       "    <tr>\n",
       "      <th>0</th>\n",
       "      <td>107120</td>\n",
       "      <td>45.0</td>\n",
       "      <td>73234</td>\n",
       "      <td>Timber</td>\n",
       "      <td>54059</td>\n",
       "      <td>1</td>\n",
       "      <td>1</td>\n",
       "      <td>1</td>\n",
       "      <td>5</td>\n",
       "      <td>GenXurban</td>\n",
       "      <td>1841</td>\n",
       "      <td>1</td>\n",
       "      <td>Kilometers</td>\n",
       "    </tr>\n",
       "    <tr>\n",
       "      <th>1</th>\n",
       "      <td>77663</td>\n",
       "      <td>28.3</td>\n",
       "      <td>53564</td>\n",
       "      <td>Veenker</td>\n",
       "      <td>34486</td>\n",
       "      <td>0</td>\n",
       "      <td>4</td>\n",
       "      <td>0</td>\n",
       "      <td>2</td>\n",
       "      <td>Upscale Avenues</td>\n",
       "      <td>3923</td>\n",
       "      <td>1</td>\n",
       "      <td>Kilometers</td>\n",
       "    </tr>\n",
       "    <tr>\n",
       "      <th>2</th>\n",
       "      <td>98860</td>\n",
       "      <td>40.0</td>\n",
       "      <td>75050</td>\n",
       "      <td>StoneBr</td>\n",
       "      <td>42476</td>\n",
       "      <td>2</td>\n",
       "      <td>5</td>\n",
       "      <td>0</td>\n",
       "      <td>4</td>\n",
       "      <td>Family Landscapes</td>\n",
       "      <td>3323</td>\n",
       "      <td>1</td>\n",
       "      <td>Kilometers</td>\n",
       "    </tr>\n",
       "    <tr>\n",
       "      <th>3</th>\n",
       "      <td>94082</td>\n",
       "      <td>34.4</td>\n",
       "      <td>81763</td>\n",
       "      <td>Somerst</td>\n",
       "      <td>39850</td>\n",
       "      <td>0</td>\n",
       "      <td>4</td>\n",
       "      <td>0</td>\n",
       "      <td>2</td>\n",
       "      <td>Upscale Avenues</td>\n",
       "      <td>4959</td>\n",
       "      <td>1</td>\n",
       "      <td>Kilometers</td>\n",
       "    </tr>\n",
       "    <tr>\n",
       "      <th>4</th>\n",
       "      <td>74934</td>\n",
       "      <td>29.7</td>\n",
       "      <td>58617</td>\n",
       "      <td>Sawyer</td>\n",
       "      <td>31749</td>\n",
       "      <td>0</td>\n",
       "      <td>1</td>\n",
       "      <td>0</td>\n",
       "      <td>5</td>\n",
       "      <td>GenXurban</td>\n",
       "      <td>3693</td>\n",
       "      <td>1</td>\n",
       "      <td>Kilometers</td>\n",
       "    </tr>\n",
       "  </tbody>\n",
       "</table>\n",
       "</div>"
      ],
      "text/plain": [
       "   Average Household Income  Median Age  Median Household Income Neighborhood  \\\n",
       "0                    107120        45.0                    73234       Timber   \n",
       "1                     77663        28.3                    53564      Veenker   \n",
       "2                     98860        40.0                    75050      StoneBr   \n",
       "3                     94082        34.4                    81763      Somerst   \n",
       "4                     74934        29.7                    58617       Sawyer   \n",
       "\n",
       "   Per Capita Income  Food Stores (SIC54)  Eating & Drinking (SIC58)  \\\n",
       "0              54059                    1                          1   \n",
       "1              34486                    0                          4   \n",
       "2              42476                    2                          5   \n",
       "3              39850                    0                          4   \n",
       "4              31749                    0                          1   \n",
       "\n",
       "   Hotel/Lodging (SIC70) Dominant Tapestry LifeMode Group Code  \\\n",
       "0                      1                                     5   \n",
       "1                      0                                     2   \n",
       "2                      0                                     4   \n",
       "3                      0                                     2   \n",
       "4                      0                                     5   \n",
       "\n",
       "  Dominant Tapestry LifeMode Group Name  Total Population  Buffer Distance  \\\n",
       "0                             GenXurban              1841                1   \n",
       "1                       Upscale Avenues              3923                1   \n",
       "2                     Family Landscapes              3323                1   \n",
       "3                       Upscale Avenues              4959                1   \n",
       "4                             GenXurban              3693                1   \n",
       "\n",
       "  Buffer Units  \n",
       "0   Kilometers  \n",
       "1   Kilometers  \n",
       "2   Kilometers  \n",
       "3   Kilometers  \n",
       "4   Kilometers  "
      ]
     },
     "execution_count": 9,
     "metadata": {},
     "output_type": "execute_result"
    }
   ],
   "source": [
    "\n",
    "#Lets change the name of the columns and clean the data\n",
    "AMES_enriched_df = AMES_enriched_df.drop(['HasData', 'ID', 'ID_1', 'OBJECTID', 'ENRICH_FID', 'aggregationMethod', 'areaType', 'bufferUnits', 'sourceCountry', 'SHAPE' ], axis=1)\n",
    "AMES_enriched_df = AMES_enriched_df.rename(index=str, columns={\"AVGHINC_CY\": \"Average Household Income\", \n",
    "                                                               \"MEDAGE_CY\": \"Median Age\",\n",
    "                                                               \"MEDHINC_CY\": \"Median Household Income\",\n",
    "                                                               \"PCI_CY\": \"Per Capita Income\",\n",
    "                                                               \"S12_BUS\": \"Food Stores (SIC54)\",\n",
    "                                                               \"S16_BUS\": \"Eating & Drinking (SIC58)\",\n",
    "                                                               \"S24_BUS\": \"Hotel/Lodging (SIC70)\",\n",
    "                                                               \"TLIFECODE\": \"Dominant Tapestry LifeMode Group Code\",\n",
    "                                                               \"TLIFENAME\": \"Dominant Tapestry LifeMode Group Name\",\n",
    "                                                               \"TOTPOP_CY\": \"Total Population\",\n",
    "                                                               \"bufferRadii\": \"Buffer Distance\",\n",
    "                                                               \"bufferUnitsAlias\": \"Buffer Units\" })\n",
    "\n",
    "#Just to check we have the right data and save it ot a new dataframe and CSV so we dont need to run everytime\n",
    "AMES_enriched_df.head(5)"
   ]
  },
  {
   "cell_type": "code",
   "execution_count": 85,
   "metadata": {},
   "outputs": [],
   "source": [
    "#Lets save the data in a CSV\n",
    "AMES_enriched_df.to_csv('Neighborhoods_enriched.csv')"
   ]
  },
  {
   "cell_type": "markdown",
   "metadata": {},
   "source": [
    "Last step is merge this data with our original data and save it to the original CSV"
   ]
  },
  {
   "cell_type": "code",
   "execution_count": 10,
   "metadata": {},
   "outputs": [],
   "source": [
    "#Merge data and export to our original file for train and test\n",
    "train_enriched = train.merge(AMES_enriched_df, on='Neighborhood')\n",
    "train_enriched.to_csv('train_enriched.csv')\n",
    "\n",
    "\n",
    "test_enriched = test.merge(AMES_enriched_df, on='Neighborhood')\n",
    "test_enriched.to_csv('test_enriched.csv')"
   ]
  },
  {
   "cell_type": "markdown",
   "metadata": {},
   "source": [
    "### Creating a Multivariate Classification with Arcpy"
   ]
  },
  {
   "cell_type": "code",
   "execution_count": 25,
   "metadata": {},
   "outputs": [],
   "source": [
    "#we will be using the ESRI arcpy function\n",
    "\n",
    "import arcpy\n",
    "\n",
    "#With Kmeans we create a 5 classes cluster based on Total Population, Per Capita Income, Number of Eating & Drinking and Median Age\n",
    "\n",
    "ga = arcpy.stats.MultivariateClustering(in_features=r'C:\\Users\\natxo\\Documents\\Local GIS\\1_GIS_AMES\\GIS_AMES\\Neighborhoods_enriched.shp', \n",
    "                                   output_features=r'C:\\Users\\natxo\\Documents\\Local GIS\\1_GIS_AMES\\GIS_AMES\\Neighborhoods_cluster.shp', \n",
    "                                   analysis_fields= ['S16_BUS','PCI_CY','MEDAGE_CY','TOTPOP_CY'], \n",
    "                                   clustering_method='K_MEANS', \n",
    "                                   initialization_method='OPTIMIZED_SEED_LOCATIONS', \n",
    "                                   initialization_field=None,\n",
    "                                   number_of_clusters=5)\n",
    "\n"
   ]
  },
  {
   "cell_type": "markdown",
   "metadata": {},
   "source": [
    "**Model Summary**\n",
    "\n",
    "Variable-Wise Summary that were used to create each of the classes\n",
    "\n",
    "     Variable        Mean    Std. Dev.         Min          Max       R2\n",
    " \n",
    "      S16_BUS    8.440000    10.594640    0.000000    39.000000 0.769774\n",
    "  \n",
    "    MEDAGE_CY   33.396000     7.383846   21.100000    45.000000 0.769223\n",
    "\n",
    "      PCI_CY 34818.160000 10671.912480 9956.000000 54059.000000 0.657214\n",
    "   \n",
    "    TOTPOP_CY 4418.080000  2454.761950 1841.000000 14098.000000 0.442192\n"
   ]
  },
  {
   "cell_type": "code",
   "execution_count": 20,
   "metadata": {},
   "outputs": [
    {
     "data": {
      "text/html": [
       "<div>\n",
       "<style scoped>\n",
       "    .dataframe tbody tr th:only-of-type {\n",
       "        vertical-align: middle;\n",
       "    }\n",
       "\n",
       "    .dataframe tbody tr th {\n",
       "        vertical-align: top;\n",
       "    }\n",
       "\n",
       "    .dataframe thead th {\n",
       "        text-align: right;\n",
       "    }\n",
       "</style>\n",
       "<table border=\"1\" class=\"dataframe\">\n",
       "  <thead>\n",
       "    <tr style=\"text-align: right;\">\n",
       "      <th></th>\n",
       "      <th>Unnamed: 0</th>\n",
       "      <th>SOURCE_ID</th>\n",
       "      <th>S16_BUS</th>\n",
       "      <th>PCI_CY</th>\n",
       "      <th>MEDAGE_CY</th>\n",
       "      <th>TOTPOP_CY</th>\n",
       "      <th>CLUSTER_ID</th>\n",
       "      <th>IS_SEED</th>\n",
       "      <th>geometry</th>\n",
       "      <th>Neighborhood</th>\n",
       "    </tr>\n",
       "  </thead>\n",
       "  <tbody>\n",
       "    <tr>\n",
       "      <th>0</th>\n",
       "      <td>0</td>\n",
       "      <td>0</td>\n",
       "      <td>1</td>\n",
       "      <td>54059</td>\n",
       "      <td>45.0</td>\n",
       "      <td>1841</td>\n",
       "      <td>5</td>\n",
       "      <td>0</td>\n",
       "      <td>POINT (-10425020.6419 5160828.683400005)</td>\n",
       "      <td>Timber</td>\n",
       "    </tr>\n",
       "    <tr>\n",
       "      <th>1</th>\n",
       "      <td>1</td>\n",
       "      <td>1</td>\n",
       "      <td>4</td>\n",
       "      <td>34486</td>\n",
       "      <td>28.3</td>\n",
       "      <td>3923</td>\n",
       "      <td>3</td>\n",
       "      <td>1</td>\n",
       "      <td>POINT (-10424724.0755 5167521.198399998)</td>\n",
       "      <td>Veenker</td>\n",
       "    </tr>\n",
       "    <tr>\n",
       "      <th>2</th>\n",
       "      <td>2</td>\n",
       "      <td>2</td>\n",
       "      <td>5</td>\n",
       "      <td>42476</td>\n",
       "      <td>40.0</td>\n",
       "      <td>3323</td>\n",
       "      <td>5</td>\n",
       "      <td>0</td>\n",
       "      <td>POINT (-10422866.5126 5170052.045000009)</td>\n",
       "      <td>StoneBr</td>\n",
       "    </tr>\n",
       "    <tr>\n",
       "      <th>3</th>\n",
       "      <td>3</td>\n",
       "      <td>3</td>\n",
       "      <td>4</td>\n",
       "      <td>39850</td>\n",
       "      <td>34.4</td>\n",
       "      <td>4959</td>\n",
       "      <td>4</td>\n",
       "      <td>0</td>\n",
       "      <td>POINT (-10424338.5392 5168410.897600003)</td>\n",
       "      <td>Somerst</td>\n",
       "    </tr>\n",
       "    <tr>\n",
       "      <th>4</th>\n",
       "      <td>4</td>\n",
       "      <td>4</td>\n",
       "      <td>1</td>\n",
       "      <td>31749</td>\n",
       "      <td>29.7</td>\n",
       "      <td>3693</td>\n",
       "      <td>3</td>\n",
       "      <td>0</td>\n",
       "      <td>POINT (-10427274.0825 5165987.3684)</td>\n",
       "      <td>Sawyer</td>\n",
       "    </tr>\n",
       "  </tbody>\n",
       "</table>\n",
       "</div>"
      ],
      "text/plain": [
       "   Unnamed: 0  SOURCE_ID  S16_BUS  PCI_CY  MEDAGE_CY  TOTPOP_CY  CLUSTER_ID  \\\n",
       "0           0          0        1   54059       45.0       1841           5   \n",
       "1           1          1        4   34486       28.3       3923           3   \n",
       "2           2          2        5   42476       40.0       3323           5   \n",
       "3           3          3        4   39850       34.4       4959           4   \n",
       "4           4          4        1   31749       29.7       3693           3   \n",
       "\n",
       "   IS_SEED                                  geometry Neighborhood  \n",
       "0        0  POINT (-10425020.6419 5160828.683400005)       Timber  \n",
       "1        1  POINT (-10424724.0755 5167521.198399998)      Veenker  \n",
       "2        0  POINT (-10422866.5126 5170052.045000009)      StoneBr  \n",
       "3        0  POINT (-10424338.5392 5168410.897600003)      Somerst  \n",
       "4        0       POINT (-10427274.0825 5165987.3684)       Sawyer  "
      ]
     },
     "execution_count": 20,
     "metadata": {},
     "output_type": "execute_result"
    }
   ],
   "source": [
    "#We will import this data and add it to the data frame and add a box plot to see how it relates to the variable neighborhood\n",
    "\n",
    "import geopandas\n",
    "\n",
    "#we read the data and will add the neighborhood name to the cluster dataframe\n",
    "Neighborhoods_cluster_df = geopandas.read_file(r'C:\\Users\\natxo\\Documents\\Local GIS\\1_GIS_AMES\\GIS_AMES\\Neighborhoods_cluster.shp')\n",
    "\n",
    "#export this data to a df\n",
    "Neighborhoods_cluster_df.to_csv('Neighborhoods_cluster.csv')\n",
    "\n",
    "#did the join in excel and bring back teh file\n",
    "Neighborhoods_cluster = pd.read_csv('Neighborhoods_cluster_name.csv') \n",
    "\n",
    "Neighborhoods_cluster.head()"
   ]
  },
  {
   "cell_type": "code",
   "execution_count": 27,
   "metadata": {},
   "outputs": [
    {
     "data": {
      "text/html": [
       "<div>\n",
       "<style scoped>\n",
       "    .dataframe tbody tr th:only-of-type {\n",
       "        vertical-align: middle;\n",
       "    }\n",
       "\n",
       "    .dataframe tbody tr th {\n",
       "        vertical-align: top;\n",
       "    }\n",
       "\n",
       "    .dataframe thead th {\n",
       "        text-align: right;\n",
       "    }\n",
       "</style>\n",
       "<table border=\"1\" class=\"dataframe\">\n",
       "  <thead>\n",
       "    <tr style=\"text-align: right;\">\n",
       "      <th></th>\n",
       "      <th>Id</th>\n",
       "      <th>MSSubClass</th>\n",
       "      <th>MSZoning</th>\n",
       "      <th>LotFrontage</th>\n",
       "      <th>LotArea</th>\n",
       "      <th>Street</th>\n",
       "      <th>Alley</th>\n",
       "      <th>LotShape</th>\n",
       "      <th>LandContour</th>\n",
       "      <th>Utilities</th>\n",
       "      <th>...</th>\n",
       "      <th>PoolQC</th>\n",
       "      <th>Fence</th>\n",
       "      <th>MiscFeature</th>\n",
       "      <th>MiscVal</th>\n",
       "      <th>MoSold</th>\n",
       "      <th>YrSold</th>\n",
       "      <th>SaleType</th>\n",
       "      <th>SaleCondition</th>\n",
       "      <th>SalePrice</th>\n",
       "      <th>GIS Cluster (K-means)</th>\n",
       "    </tr>\n",
       "  </thead>\n",
       "  <tbody>\n",
       "    <tr>\n",
       "      <th>0</th>\n",
       "      <td>496</td>\n",
       "      <td>30</td>\n",
       "      <td>C (all)</td>\n",
       "      <td>60.0</td>\n",
       "      <td>7879</td>\n",
       "      <td>Pave</td>\n",
       "      <td>NaN</td>\n",
       "      <td>Reg</td>\n",
       "      <td>Lvl</td>\n",
       "      <td>AllPub</td>\n",
       "      <td>...</td>\n",
       "      <td>NaN</td>\n",
       "      <td>GdWo</td>\n",
       "      <td>NaN</td>\n",
       "      <td>0</td>\n",
       "      <td>11</td>\n",
       "      <td>2009</td>\n",
       "      <td>WD</td>\n",
       "      <td>Abnorml</td>\n",
       "      <td>34900</td>\n",
       "      <td>2</td>\n",
       "    </tr>\n",
       "    <tr>\n",
       "      <th>1</th>\n",
       "      <td>917</td>\n",
       "      <td>20</td>\n",
       "      <td>C (all)</td>\n",
       "      <td>50.0</td>\n",
       "      <td>9000</td>\n",
       "      <td>Pave</td>\n",
       "      <td>NaN</td>\n",
       "      <td>Reg</td>\n",
       "      <td>Lvl</td>\n",
       "      <td>AllPub</td>\n",
       "      <td>...</td>\n",
       "      <td>NaN</td>\n",
       "      <td>NaN</td>\n",
       "      <td>NaN</td>\n",
       "      <td>0</td>\n",
       "      <td>10</td>\n",
       "      <td>2006</td>\n",
       "      <td>WD</td>\n",
       "      <td>Abnorml</td>\n",
       "      <td>35311</td>\n",
       "      <td>2</td>\n",
       "    </tr>\n",
       "    <tr>\n",
       "      <th>2</th>\n",
       "      <td>31</td>\n",
       "      <td>70</td>\n",
       "      <td>C (all)</td>\n",
       "      <td>50.0</td>\n",
       "      <td>8500</td>\n",
       "      <td>Pave</td>\n",
       "      <td>Pave</td>\n",
       "      <td>Reg</td>\n",
       "      <td>Lvl</td>\n",
       "      <td>AllPub</td>\n",
       "      <td>...</td>\n",
       "      <td>NaN</td>\n",
       "      <td>MnPrv</td>\n",
       "      <td>NaN</td>\n",
       "      <td>0</td>\n",
       "      <td>7</td>\n",
       "      <td>2008</td>\n",
       "      <td>WD</td>\n",
       "      <td>Normal</td>\n",
       "      <td>40000</td>\n",
       "      <td>2</td>\n",
       "    </tr>\n",
       "    <tr>\n",
       "      <th>3</th>\n",
       "      <td>1326</td>\n",
       "      <td>30</td>\n",
       "      <td>RM</td>\n",
       "      <td>40.0</td>\n",
       "      <td>3636</td>\n",
       "      <td>Pave</td>\n",
       "      <td>NaN</td>\n",
       "      <td>Reg</td>\n",
       "      <td>Lvl</td>\n",
       "      <td>AllPub</td>\n",
       "      <td>...</td>\n",
       "      <td>NaN</td>\n",
       "      <td>MnPrv</td>\n",
       "      <td>NaN</td>\n",
       "      <td>0</td>\n",
       "      <td>1</td>\n",
       "      <td>2008</td>\n",
       "      <td>WD</td>\n",
       "      <td>Normal</td>\n",
       "      <td>55000</td>\n",
       "      <td>2</td>\n",
       "    </tr>\n",
       "    <tr>\n",
       "      <th>4</th>\n",
       "      <td>706</td>\n",
       "      <td>190</td>\n",
       "      <td>RM</td>\n",
       "      <td>70.0</td>\n",
       "      <td>5600</td>\n",
       "      <td>Pave</td>\n",
       "      <td>NaN</td>\n",
       "      <td>Reg</td>\n",
       "      <td>Lvl</td>\n",
       "      <td>AllPub</td>\n",
       "      <td>...</td>\n",
       "      <td>NaN</td>\n",
       "      <td>NaN</td>\n",
       "      <td>Othr</td>\n",
       "      <td>3500</td>\n",
       "      <td>7</td>\n",
       "      <td>2010</td>\n",
       "      <td>WD</td>\n",
       "      <td>Normal</td>\n",
       "      <td>55000</td>\n",
       "      <td>2</td>\n",
       "    </tr>\n",
       "  </tbody>\n",
       "</table>\n",
       "<p>5 rows × 82 columns</p>\n",
       "</div>"
      ],
      "text/plain": [
       "     Id  MSSubClass MSZoning  LotFrontage  LotArea Street Alley LotShape  \\\n",
       "0   496          30  C (all)         60.0     7879   Pave   NaN      Reg   \n",
       "1   917          20  C (all)         50.0     9000   Pave   NaN      Reg   \n",
       "2    31          70  C (all)         50.0     8500   Pave  Pave      Reg   \n",
       "3  1326          30       RM         40.0     3636   Pave   NaN      Reg   \n",
       "4   706         190       RM         70.0     5600   Pave   NaN      Reg   \n",
       "\n",
       "  LandContour Utilities          ...           PoolQC  Fence MiscFeature  \\\n",
       "0         Lvl    AllPub          ...              NaN   GdWo         NaN   \n",
       "1         Lvl    AllPub          ...              NaN    NaN         NaN   \n",
       "2         Lvl    AllPub          ...              NaN  MnPrv         NaN   \n",
       "3         Lvl    AllPub          ...              NaN  MnPrv         NaN   \n",
       "4         Lvl    AllPub          ...              NaN    NaN        Othr   \n",
       "\n",
       "  MiscVal MoSold YrSold SaleType  SaleCondition  SalePrice  \\\n",
       "0       0     11   2009       WD        Abnorml      34900   \n",
       "1       0     10   2006       WD        Abnorml      35311   \n",
       "2       0      7   2008       WD         Normal      40000   \n",
       "3       0      1   2008       WD         Normal      55000   \n",
       "4    3500      7   2010       WD         Normal      55000   \n",
       "\n",
       "   GIS Cluster (K-means)  \n",
       "0                      2  \n",
       "1                      2  \n",
       "2                      2  \n",
       "3                      2  \n",
       "4                      2  \n",
       "\n",
       "[5 rows x 82 columns]"
      ]
     },
     "execution_count": 27,
     "metadata": {},
     "output_type": "execute_result"
    }
   ],
   "source": [
    "#Lets add this data to our CSVs\n",
    "\n",
    "#Merge data and export to our original file for train and test\n",
    "train_enriched = train.merge(Neighborhoods_cluster, on='Neighborhood')\n",
    "#drop teh extra columns\n",
    "train_enriched.drop(['SOURCE_ID','S16_BUS','PCI_CY', 'MEDAGE_CY', 'TOTPOP_CY', 'IS_SEED', 'geometry', 'Unnamed: 0'], inplace=True, axis=1)\n",
    "train_enriched = train_enriched.rename(index=str, columns={\"CLUSTER_ID\": 'GIS Cluster (K-means)'})\n",
    "train_enriched.to_csv('train_enriched.csv')\n",
    "\n",
    "\n",
    "test_enriched = test.merge(Neighborhoods_cluster, on='Neighborhood')\n",
    "test_enriched.drop(['SOURCE_ID','S16_BUS','PCI_CY', 'MEDAGE_CY', 'TOTPOP_CY', 'IS_SEED', 'geometry', 'Unnamed: 0'], inplace=True, axis=1)\n",
    "test_enriched = test_enriched.rename(index=str, columns={\"CLUSTER_ID\": 'GIS Cluster (K-means)'})\n",
    "test_enriched.to_csv('test_enriched.csv')\n",
    "\n",
    "train_enriched.head()"
   ]
  },
  {
   "cell_type": "code",
   "execution_count": 32,
   "metadata": {},
   "outputs": [
    {
     "data": {
      "text/plain": [
       "<matplotlib.axes._subplots.AxesSubplot at 0x163b9f59f98>"
      ]
     },
     "execution_count": 32,
     "metadata": {},
     "output_type": "execute_result"
    },
    {
     "data": {
      "image/png": "[encoded data removed]",
      "text/plain": [
       "<matplotlib.figure.Figure at 0x163b7db1e10>"
      ]
     },
     "metadata": {},
     "output_type": "display_data"
    }
   ],
   "source": [
    "#Lets visualize the relation between both variables Neighborhood Cluester and sale price\n",
    "\n",
    "plt.figure(figsize=(12, 7))\n",
    "n = sns.boxplot(x='Neighborhood', y='SalePrice', data=train_enriched, palette='winter', )\n",
    "n.set_xticklabels(train_enriched.Neighborhood.unique(), rotation = 30)\n",
    "n.set_title('Sale Price Distribution by Neighborhood')\n",
    "n"
   ]
  },
  {
   "cell_type": "code",
   "execution_count": 40,
   "metadata": {},
   "outputs": [
    {
     "data": {
      "text/plain": [
       "<matplotlib.axes._subplots.AxesSubplot at 0x163bb3c37b8>"
      ]
     },
     "execution_count": 40,
     "metadata": {},
     "output_type": "execute_result"
    },
    {
     "data": {
      "image/png": "[encoded data removed]",
      "text/plain": [
       "<matplotlib.figure.Figure at 0x163bb52be48>"
      ]
     },
     "metadata": {},
     "output_type": "display_data"
    }
   ],
   "source": [
    "plt.figure(figsize=(12, 7))\n",
    "n = sns.boxplot(x='GIS Cluster (K-means)', y='SalePrice', data=train_enriched, palette='winter', )\n",
    "n.set_xticklabels(train_enriched['GIS Cluster (K-means)'].unique())\n",
    "n.set_title('Sale Price Distribution by Neighborhood')\n",
    "n"
   ]
  },
  {
   "cell_type": "code",
   "execution_count": 42,
   "metadata": {},
   "outputs": [
    {
     "data": {
      "text/plain": [
       "1      2\n",
       "3    210\n",
       "2    326\n",
       "4    337\n",
       "5    585\n",
       "Name: GIS Cluster (K-means), dtype: int64"
      ]
     },
     "execution_count": 42,
     "metadata": {},
     "output_type": "execute_result"
    }
   ],
   "source": [
    "train_enriched['GIS Cluster (K-means)'].value_counts().sort_values(ascending=True)"
   ]
  }
 ],
 "metadata": {
  "kernelspec": {
   "display_name": "Python 3",
   "language": "python",
   "name": "python3"
  },
  "language_info": {
   "codemirror_mode": {
    "name": "ipython",
    "version": 3
   },
   "file_extension": ".py",
   "mimetype": "text/x-python",
   "name": "python",
   "nbconvert_exporter": "python",
   "pygments_lexer": "ipython3",
   "version": "3.6.4"
  }
 },
 "nbformat": 4,
 "nbformat_minor": 2
}
