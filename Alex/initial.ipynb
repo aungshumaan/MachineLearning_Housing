{
 "cells": [
  {
   "cell_type": "code",
   "execution_count": 2,
   "metadata": {},
   "outputs": [],
   "source": [
    "import pandas as pd\n",
    "import numpy as np\n",
    "import matplotlib.pyplot as plt\n",
    "import matplotlib as matplot\n",
    "import seaborn as sns\n",
    "%matplotlib inline"
   ]
  },
  {
   "cell_type": "code",
   "execution_count": 17,
   "metadata": {},
   "outputs": [],
   "source": [
    "from scipy.stats import skew\n",
    "from sklearn import linear_model\n",
    "from sklearn.cluster import KMeans\n",
    "from sklearn.metrics import mean_squared_error\n",
    "from sklearn.tree import DecisionTreeClassifier\n",
    "from sklearn.preprocessing import RobustScaler, StandardScaler\n",
    "from sklearn.linear_model import LogisticRegression, LassoLarsCV,Ridge\n",
    "from sklearn.neighbors import KNeighborsClassifier\n",
    "from sklearn.naive_bayes import GaussianNB\n",
    "from sklearn.svm import SVC, LinearSVC\n",
    "from sklearn.model_selection import KFold\n",
    "from sklearn.ensemble import RandomForestClassifier, GradientBoostingClassifier, RandomForestRegressor\n",
    "from sklearn.cross_validation import train_test_split , StratifiedKFold"
   ]
  },
  {
   "cell_type": "code",
   "execution_count": 4,
   "metadata": {},
   "outputs": [],
   "source": [
    "from sklearn.preprocessing import LabelEncoder\n",
    "le = LabelEncoder()\n",
    "\n",
    "def factorize(df, factor_df, column, fill_na=None):\n",
    "    factor_df[column] = df[column]\n",
    "    if fill_na is not None:\n",
    "        factor_df[column].fillna(fill_na, inplace=True)\n",
    "    le.fit(factor_df[column].unique())\n",
    "    factor_df[column] = le.transform(factor_df[column])\n",
    "    return factor_df"
   ]
  },
  {
   "cell_type": "code",
   "execution_count": 41,
   "metadata": {},
   "outputs": [
    {
     "name": "stdout",
     "output_type": "stream",
     "text": [
      "Train data shape: (1452, 81)\n",
      "Test data shape: (1459, 80)\n",
      "\n",
      "\n",
      "Train predictors shape: (1452, 80)\n",
      "Train target shape: (1452,)\n",
      "Test set: (1459, 80)\n"
     ]
    }
   ],
   "source": [
    "train_df = pd.read_csv('train.csv')\n",
    "test_df = pd.read_csv('test.csv')\n",
    "\n",
    "# Drop rows from train_df that contain outlier observations in Garage Area and GrLivArea\n",
    "train_df.drop(train_df[train_df[\"GarageArea\"] > 1200].index, inplace=True)\n",
    "train_df.drop(train_df[train_df[\"GrLivArea\"] > 4000].index, inplace=True)\n",
    "\n",
    "print (\"Train data shape:\", train_df.shape)\n",
    "print (\"Test data shape:\", test_df.shape)\n",
    "\n",
    "# Save ID columns for modeling later on.\n",
    "train_ID = train_df['Id']\n",
    "test_ID = test_df['Id']\n",
    "\n",
    "# Now drop the 'Id' colum since we can not use it as a feature to train our model.\n",
    "# train_df.drop(\"Id\", axis = 1, inplace = True)\n",
    "# test_df.drop(\"Id\", axis = 1, inplace = True)\n",
    "\n",
    "\n",
    "\n",
    "x_train = train_df.drop('SalePrice', axis=1)\n",
    "target = train_df['SalePrice']\n",
    "\n",
    "x_test = test_df.copy()\n",
    "\n",
    "print(\"\\n\")\n",
    "print(\"Train predictors shape:\", x_train.shape)\n",
    "print(\"Train target shape:\", target.shape)\n",
    "print(\"Test set:\", x_test.shape)"
   ]
  },
  {
   "cell_type": "code",
   "execution_count": 42,
   "metadata": {},
   "outputs": [
    {
     "data": {
      "text/plain": [
       "(2911, 80)"
      ]
     },
     "execution_count": 42,
     "metadata": {},
     "output_type": "execute_result"
    }
   ],
   "source": [
    "# Create df by concatenating train and test df's.\n",
    "\n",
    "temp = pd.concat([x_train, x_test], ignore_index=True)\n",
    "temp.shape"
   ]
  },
  {
   "cell_type": "code",
   "execution_count": 46,
   "metadata": {},
   "outputs": [
    {
     "data": {
      "text/plain": [
       "24"
      ]
     },
     "execution_count": 46,
     "metadata": {},
     "output_type": "execute_result"
    }
   ],
   "source": [
    "temp['MasVnrType'].isnull().sum()"
   ]
  },
  {
   "cell_type": "code",
   "execution_count": 30,
   "metadata": {
    "scrolled": true
   },
   "outputs": [],
   "source": [
    "def transform_features(df):\n",
    "    \n",
    "    all_data = pd.DataFrame(index = df.index)\n",
    "\n",
    "    all_data[\"MSSubClass\"] = df[\"MSSubClass\"]\n",
    "    \n",
    "    all_data[\"MSZoning\"] = df[\"MSZoning\"]\n",
    "    \n",
    "    all_data[\"Neighborhood\"] = df[\"Neighborhood\"]\n",
    "    \n",
    "    all_data[\"LotFrontage\"] = df[\"LotFrontage\"]   \n",
    "    all_data[\"LotFrontage\"] = all_data.groupby(\"Neighborhood\")[\"LotFrontage\"].transform(lambda x: x.fillna(x.median()))\n",
    "    \n",
    "    all_data[\"LotArea\"] = df[\"LotArea\"]\n",
    "    \n",
    "    all_data[\"Street\"] = df[\"Street\"]\n",
    "    \n",
    "    all_data[\"Alley\"] = df[\"Alley\"]\n",
    "    \n",
    "    all_data[\"LotShape\"] = df[\"LotShape\"]\n",
    "    \n",
    "    all_data[\"LandContour\"] = df[\"LandContour\"]\n",
    "    \n",
    "    all_data[\"Utilities\"] = df[\"Utilities\"]\n",
    "    all_data['Utilities'] = all_data['Utilities'].astype('category')\n",
    "    \n",
    "    all_data[\"LotConfig\"] = df[\"LotConfig\"]\n",
    "    \n",
    "    all_data[\"LandSlope\"] = df[\"LandSlope\"]\n",
    "    \n",
    "    all_data[\"Condition1\"] = df[\"Condition1\"] \n",
    "    \n",
    "    all_data[\"Condition2\"] = df[\"Condition2\"]\n",
    "    \n",
    "    all_data[\"BldgType\"] = df[\"BldgType\"]\n",
    "    \n",
    "    all_data[\"HouseStyle\"] = df[\"HouseStyle\"] \n",
    "    \n",
    "    all_data[\"OverallQual\"] = df[\"OverallQual\"] \n",
    "    \n",
    "    all_data[\"OverallCond\"] = df[\"OverallCond\"] \n",
    "    \n",
    "    all_data[\"YearBuilt\"] = df[\"YearBuilt\"]\n",
    "    \n",
    "    all_data[\"YearRemodAdd\"] = df[\"YearRemodAdd\"]\n",
    "    \n",
    "    all_data[\"RoofStyle\"] = df[\"RoofStyle\"]\n",
    "    \n",
    "    all_data[\"RoofMatl\"] = df[\"RoofMatl\"]\n",
    "    \n",
    "    all_data[\"Exterior1st\"] = df[\"Exterior1st\"]\n",
    "    \n",
    "    all_data[\"Exterior2nd\"] = df[\"Exterior2nd\"]\n",
    "    \n",
    "    all_data[\"MasVnrType\"] = df[\"MasVnrType\"]\n",
    "    \n",
    "    all_data[\"MasVnrArea\"] = df[\"MasVnrArea\"]\n",
    "    \n",
    "    all_data[\"ExterQual\"] = df[\"ExterQual\"]\n",
    "    \n",
    "    all_data[\"ExterCond\"] = df[\"ExterCond\"]\n",
    "    \n",
    "    all_data[\"Foundation\"] = df[\"Foundation\"]\n",
    "    \n",
    "    all_data[\"BsmtQual\"] = df[\"BsmtQual\"]\n",
    "    \n",
    "    all_data[\"BsmtCond\"] = df[\"BsmtCond\"]\n",
    "    \n",
    "    all_data[\"BsmtExposure\"] = df[\"BsmtExposure\"]\n",
    "    \n",
    "    all_data[\"BsmtFinType1\"] = df[\"BsmtFinType1\"]\n",
    "    \n",
    "    all_data[\"BsmtFinSF1\"] = df[\"BsmtFinSF1\"]\n",
    "    \n",
    "    all_data[\"BsmtFinType2\"] = df[\"BsmtFinType2\"]\n",
    "    \n",
    "    all_data[\"BsmtFinSF2\"] = df[\"BsmtFinSF2\"]\n",
    "    \n",
    "    all_data[\"BsmtUnfSF\"] = df[\"BsmtUnfSF\"]\n",
    "    \n",
    "    all_data[\"TotalBsmtSF\"] = df[\"TotalBsmtSF\"]\n",
    "    \n",
    "    all_data[\"Heating\"] = df[\"Heating\"]\n",
    "    \n",
    "    all_data[\"HeatingQC\"] = df[\"HeatingQC\"]\n",
    "    \n",
    "    all_data[\"CentralAir\"] = df[\"CentralAir\"]\n",
    "    \n",
    "    all_data[\"Electrical\"] = df[\"Electrical\"]\n",
    "    \n",
    "    all_data[\"1stFlrSF\"] = df[\"1stFlrSF\"]\n",
    "    \n",
    "    all_data[\"2ndFlrSF\"] = df[\"2ndFlrSF\"]\n",
    "    \n",
    "    all_data[\"LowQualFinSF\"] = df[\"LowQualFinSF\"]\n",
    "    \n",
    "    all_data[\"GrLivArea\"] = df[\"GrLivArea\"]\n",
    "    \n",
    "    all_data[\"BsmtFullBath\"] = df[\"BsmtFullBath\"]\n",
    "    \n",
    "    all_data[\"BsmtHalfBath\"] = df[\"BsmtHalfBath\"]\n",
    "    \n",
    "    all_data[\"FullBath\"] = df[\"FullBath\"]\n",
    "    \n",
    "    all_data[\"HalfBath\"] = df[\"HalfBath\"]\n",
    "    \n",
    "    all_data[\"BedroomAbvGr\"] = df[\"BedroomAbvGr\"]\n",
    "    \n",
    "    all_data[\"KitchenAbvGr\"] = df[\"KitchenAbvGr\"]\n",
    "    \n",
    "    all_data[\"KitchenQual\"] = df[\"KitchenQual\"]\n",
    "    \n",
    "    all_data[\"TotRmsAbvGrd\"] = df[\"TotRmsAbvGrd\"]\n",
    "    \n",
    "    all_data[\"Functional\"] = df[\"Functional\"]\n",
    "    \n",
    "    all_data[\"Fireplaces\"] = df[\"Fireplaces\"]\n",
    "    \n",
    "    all_data[\"FireplaceQu\"] = df[\"FireplaceQu\"]\n",
    "    \n",
    "    all_data[\"GarageType\"] = df[\"GarageType\"]\n",
    "    \n",
    "    all_data[\"GarageYrBlt\"] = df[\"GarageYrBlt\"]\n",
    "    all_data[\"GarageYrBlt\"] = all_data[\"GarageYrBlt\"].fillna(all_data[\"GarageYrBlt\"].dropna().median())\n",
    "\n",
    "    \n",
    "    all_data[\"GarageFinish\"] = df[\"GarageFinish\"]\n",
    "    \n",
    "    all_data[\"GarageCars\"] = df[\"GarageCars\"]\n",
    "    \n",
    "    all_data[\"GarageArea\"] = df[\"GarageArea\"]\n",
    "    \n",
    "    all_data[\"GarageQual\"] = df[\"GarageQual\"]\n",
    "    \n",
    "    all_data[\"GarageCond\"] = df[\"GarageCond\"]\n",
    "    \n",
    "    all_data[\"PavedDrive\"] = df[\"PavedDrive\"]\n",
    "    \n",
    "    all_data[\"WoodDeckSF\"] = df[\"WoodDeckSF\"]\n",
    "    \n",
    "    all_data[\"OpenPorchSF\"] = df[\"OpenPorchSF\"]\n",
    "    \n",
    "    all_data[\"EnclosedPorch\"] = df[\"EnclosedPorch\"]\n",
    "    \n",
    "    all_data[\"3SsnPorch\"] = df[\"3SsnPorch\"]\n",
    "    \n",
    "    all_data[\"ScreenPorch\"] = df[\"ScreenPorch\"]\n",
    "    \n",
    "    all_data[\"PoolArea\"] = df[\"PoolArea\"]\n",
    "    \n",
    "    all_data[\"PoolQC\"] = df[\"PoolQC\"]\n",
    "    \n",
    "    all_data[\"Fence\"] = df[\"Fence\"]\n",
    "    \n",
    "    all_data[\"MiscFeature\"] = df[\"MiscFeature\"]\n",
    "    \n",
    "    all_data[\"MiscVal\"] = df[\"MiscVal\"]\n",
    "    \n",
    "    all_data[\"MoSold\"] = df[\"MoSold\"]\n",
    "    \n",
    "    all_data[\"YrSold\"] = df[\"YrSold\"]\n",
    "    \n",
    "    all_data[\"SaleType\"] = df[\"SaleType\"]\n",
    "\n",
    "    all_data[\"MasVnrType\"] = all_data[\"MasVnrType\"].fillna(\"None\")\n",
    "    all_data[\"MasVnrArea\"] = all_data[\"MasVnrArea\"].fillna(0)\n",
    "    \n",
    "    all_data[\"BsmtFinSF1\"].fillna(0, inplace=True)\n",
    "\n",
    "    all_data[\"BsmtFinSF2\"].fillna(0, inplace=True)\n",
    "\n",
    "    all_data[\"BsmtUnfSF\"].fillna(0, inplace=True)\n",
    "\n",
    "    all_data[\"GarageArea\"].fillna(0, inplace=True)\n",
    "    all_data[\"GarageCars\"].fillna(0, inplace=True)\n",
    "    \n",
    "    \n",
    "    \n",
    "    all_data['TotalPorchSF'] = all_data['WoodDeckSF'] + all_data['OpenPorchSF'] + all_data['EnclosedPorch']  + all_data['3SsnPorch'] + all_data['ScreenPorch']\n",
    "    all_data.drop(['WoodDeckSF','OpenPorchSF','EnclosedPorch','3SsnPorch','ScreenPorch'], inplace=True, axis=1)\n",
    "    \n",
    "    all_data[\"PoolQC\"] = all_data[\"PoolQC\"].fillna(\"None\")\n",
    "    all_data[\"PoolArea\"] = all_data[\"PoolArea\"].fillna(0)\n",
    "    \n",
    "    all_data[\"MiscFeature\"] = all_data[\"MiscFeature\"].fillna(\"None\")\n",
    "    \n",
    "    all_data['MSSubClass'] = all_data['MSSubClass'].fillna(\"None\")\n",
    "\n",
    "    \n",
    "    \n",
    "    # Create new column for years the house was sold for since being built\n",
    "    # Create new column for years the house was sold for since remodeling/addition\n",
    "    years_since_built = df['YrSold'] - df['YearBuilt']\n",
    "    years_since_remod = df['YrSold'] - df['YearRemodAdd']\n",
    "    all_data['YearsBeforeSale'] = years_since_built\n",
    "    all_data['YearsSinceRemod'] = years_since_remod\n",
    "    #df = df.drop([1702, 2180, 2181], axis=0)\n",
    "    all_data = all_data.drop([\"YearBuilt\", \"YearRemodAdd\"], axis = 1)\n",
    "\n",
    "    ## Filling columns with 'None'\n",
    "    cols = [\"PoolQC\" , \"MiscFeature\", \"Alley\", \"Fence\", \"FireplaceQu\", \"GarageQual\", \"GarageCond\", \n",
    "                    \"GarageFinish\", \"GarageYrBlt\", \"GarageType\", \"BsmtExposure\", \n",
    "                    \"BsmtCond\", \"BsmtQual\", \"BsmtFinType2\", \"BsmtFinType1\"]\n",
    "    for col in cols:\n",
    "        all_data[col].fillna(\"None\", inplace=True)\n",
    "    \n",
    "    ## Filling columns with 0\n",
    "    cols1 = [\"MasVnrArea\", \"BsmtUnfSF\", \"TotalBsmtSF\", \"GarageCars\", \n",
    "             \"BsmtFinSF2\", \"BsmtFinSF1\", \"GarageArea\", \"Fence\", \"MiscFeature\"]\n",
    "    for col in cols1:\n",
    "        all_data[col].fillna(0, inplace=True)\n",
    "    \n",
    "    def encode(x): return 1 if x == 'Partial' else 0\n",
    "    #all_data[\"SaleCondition\"] = df[\"SaleCondition\"]\n",
    "    all_data[\"encoded_condition\"] = df[\"SaleCondition\"].apply(encode)\n",
    "    \n",
    "    # Drop columns that provide data leakage about the Sale Price\n",
    "    all_data = all_data.drop([\"MoSold\", \"SaleType\", \"YrSold\", \"encoded_condition\"], axis=1)\n",
    "    \n",
    "    cols2 = [\"MSZoning\", \"BsmtFullBath\", \"BsmtHalfBath\", \"Utilities\", \"Functional\", \"Electrical\", \n",
    "             \"KitchenQual\",\"Exterior1st\", \"Exterior2nd\", \"MasVnrType\"]\n",
    "    for col in cols2:\n",
    "        all_data[col].fillna(all_data[col].mode()[0], inplace=True)\n",
    "    \n",
    "    all_data['TotalBath'] = all_data['BsmtFullBath'] + all_data['BsmtHalfBath'] + all_data['FullBath'] + all_data['HalfBath']\n",
    "    all_data.drop(['BsmtFullBath', 'BsmtHalfBath', 'FullBath', 'HalfBath'], inplace=True, axis=1)\n",
    "\n",
    "    all_data['TotalSF'] = all_data['TotalBsmtSF'] + all_data['1stFlrSF'] + all_data['2ndFlrSF']\n",
    "    all_data.drop(['TotalBsmtSF', '1stFlrSF', '2ndFlrSF'], inplace=True, axis=1)\n",
    "    \n",
    "    \n",
    "    return all_data\n",
    "\n",
    "\n",
    "def select_features(df):\n",
    "    all_data = df\n",
    "    \n",
    "    # Turn quality / condition columns into numerical values\n",
    "\n",
    "    ord_cols = ['ExterQual', 'ExterCond','BsmtCond', 'BsmtQual','HeatingQC', \n",
    "                'KitchenQual', 'FireplaceQu', 'GarageQual', 'GarageCond', 'PoolQC']\n",
    "    ord_dic = {'Ex': 5, 'Gd': 4, 'TA': 3, 'Fa':2, 'Po':1, 'None': 0}\n",
    "\n",
    "    for col in ord_cols:\n",
    "        all_data[col] = all_data[col].map(lambda x: ord_dic.get(x, 0))\n",
    "    \n",
    "#     for c in all_data:\n",
    "#         if all_data[c].dtype == 'object':\n",
    "#             le = LabelEncoder()\n",
    "#             # Need to convert the column type to string in order to encode missing values\n",
    "#             all_data[c] = le.fit_transform(all_data[c].astype(str))\n",
    "    \n",
    "    # Bin columns with multiple values (generally by median sale price)\n",
    "    all_data['MSSubClass'] = all_data['MSSubClass'].astype(str)\n",
    "    all_data[\"MSSubClass\"] = all_data['MSSubClass'].map({'180':1, \n",
    "                                                         '30':2, '45':2, \n",
    "                                                         '190':3, '50':3, '90':3, \n",
    "                                                         '85':4, '40':4, '160':4, \n",
    "                                                         '70':5, '20':5, '75':5, '80':5, '150':5,\n",
    "                                                         '120': 6, '60':6})\n",
    "    all_data[\"MSZoning\"] = all_data['MSZoning'].map({'C (all)':1, 'RH':2, 'RM':2, 'RL':3, 'FV':4})\n",
    "    all_data[\"Neighborhood\"] = all_data['Neighborhood'].map({'MeadowV':1,\n",
    "                                                             'IDOTRR':2, 'BrDale':2,\n",
    "                                                             'OldTown':3, 'Edwards':3, 'BrkSide':3,\n",
    "                                                             'Sawyer':4, 'Blueste':4, 'SWISU':4, 'NAmes':4,\n",
    "                                                             'NPkVill':5, 'Mitchel':5,\n",
    "                                                             'SawyerW':6, 'Gilbert':6, 'NWAmes':6,\n",
    "                                                             'Blmngtn':7, 'CollgCr':7, 'ClearCr':7, 'Crawfor':7,\n",
    "                                                             'Veenker':8, 'Somerst':8, 'Timber':8,\n",
    "                                                             'StoneBr':9,\n",
    "                                                             'NoRidge':10, 'NridgHt':10})\n",
    "    all_data[\"Condition1\"] = all_data['Condition1'].map({'Artery':1,\n",
    "                                                         'Feedr':2, 'RRAe':2,\n",
    "                                                         'Norm':3, 'RRAn':3,\n",
    "                                                         'PosN':4, 'RRNe':4,\n",
    "                                                         'PosA':5 ,'RRNn':5})\n",
    "    all_data[\"BldgType\"] = all_data['BldgType'].map({'2fmCon':1, 'Duplex':1, 'Twnhs':1, '1Fam':2, 'TwnhsE':2})\n",
    "    all_data[\"HouseStyle\"] = all_data['HouseStyle'].map({'1.5Unf':1, \n",
    "                                                         '1.5Fin':2, '2.5Unf':2, 'SFoyer':2, \n",
    "                                                         '1Story':3, 'SLvl':3,\n",
    "                                                         '2Story':4, '2.5Fin':4})\n",
    "    all_data[\"Exterior1st\"] = all_data['Exterior1st'].map({'BrkComm':1,\n",
    "                                                          'AsphShn':2, 'CBlock':2, 'AsbShng':2,\n",
    "                                                          'WdShing':3, 'Wd Sdng':3, 'MetalSd':3, 'Stucco':3, 'HdBoard':3,\n",
    "                                                          'BrkFace':4, 'Plywood':4,\n",
    "                                                          'VinylSd':5,\n",
    "                                                          'CemntBd':6,\n",
    "                                                          'Stone':7, 'ImStucc':7})\n",
    "    all_data[\"MasVnrType\"] = all_data['MasVnrType'].map({'BrkCmn':1, 'None':1, 'BrkFace':2, 'Stone':3})\n",
    "    \n",
    "    all_data[\"Foundation\"] = all_data['Foundation'].map({'Slab':1, \n",
    "                                           'BrkTil':2, 'CBlock':2, 'Stone':2,\n",
    "                                           'Wood':3, 'PConc':4})\n",
    "    \n",
    "    all_data[\"BsmtExposure\"] = all_data['BsmtExposure'].map({'None':1, 'No':2, 'Av':3, 'Mn':3, 'Gd':4})\n",
    "    \n",
    "    all_data[\"Heating\"] = all_data['Heating'].map({'Floor':1, 'Grav':1, 'Wall':2, 'OthW':3, 'GasW':4, 'GasA':5})\n",
    "    \n",
    "        \n",
    "    all_data[\"Functional\"] = all_data['Functional'].map({'Maj2':1, 'Maj1':2, 'Min1':2, 'Min2':2, 'Mod':2, 'Sev':2, 'Typ':3})\n",
    "    \n",
    "    \n",
    "    all_data[\"GarageType\"] = all_data['GarageType'].map({'CarPort':1, 'None':1,\n",
    "                                                         'Detchd':2,\n",
    "                                                         '2Types':3, 'Basment':3,\n",
    "                                                         'Attchd':4, 'BuiltIn':5})\n",
    "    \n",
    "    all_data[\"GarageFinish\"] = all_data['GarageFinish'].map({'None':1, 'Unf':2, 'RFn':3, 'Fin':4})\n",
    "    \n",
    "    all_data[\"PavedDrive\"] = all_data['PavedDrive'].map({'N':1, 'P':2, 'Y':3})\n",
    "    \n",
    "    all_data[\"Fence\"] = all_data[\"Fence\"].map({'None': 0, \"MnWw\": 1, \"GdWo\": 1, \n",
    "                                               \"MnPrv\": 2, \n",
    "                                               \"GdPrv\": 3})\n",
    "    \n",
    "    all_data.drop(['Utilities'], axis=1, inplace=True)\n",
    "    \n",
    "    all_data = pd.get_dummies(all_data)\n",
    "    \n",
    "    return all_data\n",
    "\n",
    "\n",
    "def train_and_test(df, k):  \n",
    "    \n",
    "    lr = linear_model.LinearRegression()\n",
    "    if k == 1:\n",
    "        train = df[:x_train.shape]\n",
    "        test = df[x_train.shape:]\n",
    "        \n",
    "        lr.fit(train, target)\n",
    "        predictions = lr.predict(test)\n",
    "        \n",
    "        mse = mean_squared_error(target, predictions)\n",
    "        rmse = np.sqrt(mse)\n",
    "    \n",
    "    else:\n",
    "        kf = KFold(n_splits=k, shuffle=True)\n",
    "        rmse_values = []\n",
    "        for train_index, test_index, in kf.split(df):\n",
    "            train = df[:x_train.shape]\n",
    "            test = df[x_train.shape:]\n",
    "            \n",
    "            train = train.iloc[train_index]\n",
    "            test = test.iloc[test_index]\n",
    "            lr.fit(x, y)\n",
    "            predictions = lr.predict(x)\n",
    "            mse = mean_squared_error(x, predictions)\n",
    "            rmse = np.sqrt(mse)\n",
    "            rmse_values.append(rmse)\n",
    "        print(rmse_values)\n",
    "        avg_rmse = np.mean(rmse_values)\n",
    "        avg_rmse\n",
    "    \n",
    "    \n",
    "#     lr.fit(x, y)\n",
    "\n",
    "#     predictions = lr.predict(x)\n",
    "#     mse = mean_squared_error(training[\"SalePrice\"], predictions)\n",
    "#     rmse = np.sqrt(mse)\n",
    "#     print(mse)\n",
    "#     print(rmse)\n",
    "#     lr.score(x, y)\n",
    "\n",
    "    \n",
    "    return print('RMSE: ' + str(rmse) , 'R^2: ' + str(lr.score(x, y)))"
   ]
  },
  {
   "cell_type": "code",
   "execution_count": 35,
   "metadata": {},
   "outputs": [],
   "source": [
    "all_data = transform_features(temp)\n",
    "all_data = select_features(all_data)"
   ]
  },
  {
   "cell_type": "code",
   "execution_count": 36,
   "metadata": {},
   "outputs": [
    {
     "data": {
      "text/html": [
       "<div>\n",
       "<style>\n",
       "    .dataframe thead tr:only-child th {\n",
       "        text-align: right;\n",
       "    }\n",
       "\n",
       "    .dataframe thead th {\n",
       "        text-align: left;\n",
       "    }\n",
       "\n",
       "    .dataframe tbody tr th {\n",
       "        vertical-align: top;\n",
       "    }\n",
       "</style>\n",
       "<table border=\"1\" class=\"dataframe\">\n",
       "  <thead>\n",
       "    <tr style=\"text-align: right;\">\n",
       "      <th></th>\n",
       "      <th>Missing Ratio</th>\n",
       "    </tr>\n",
       "  </thead>\n",
       "  <tbody>\n",
       "  </tbody>\n",
       "</table>\n",
       "</div>"
      ],
      "text/plain": [
       "Empty DataFrame\n",
       "Columns: [Missing Ratio]\n",
       "Index: []"
      ]
     },
     "execution_count": 36,
     "metadata": {},
     "output_type": "execute_result"
    }
   ],
   "source": [
    "all_data_na = (all_data.isnull().sum() / len(all_data)) * 100\n",
    "all_data_na = all_data_na.drop(all_data_na[all_data_na == 0].index).sort_values(ascending=False)\n",
    "missing_data = pd.DataFrame({'Missing Ratio' :all_data_na})\n",
    "missing_data\n"
   ]
  },
  {
   "cell_type": "code",
   "execution_count": 47,
   "metadata": {},
   "outputs": [
    {
     "data": {
      "image/png": "[encoded data removed]",
      "text/plain": [
       "<Figure size 432x288 with 1 Axes>"
      ]
     },
     "metadata": {},
     "output_type": "display_data"
    }
   ],
   "source": [
    "binning_check = train_df.groupby('MasVnrType')['SalePrice'].agg('median').sort_values().reset_index()\n",
    "sns.barplot(binning_check['MasVnrType'], binning_check['SalePrice'], color = '.75')\n",
    "plt.xlabel(binning_check.columns[0], size=16)\n",
    "plt.ylabel('Median Sale Price', size=16)\n",
    "plt.show()"
   ]
  },
  {
   "cell_type": "code",
   "execution_count": 34,
   "metadata": {},
   "outputs": [
    {
     "data": {
      "text/plain": [
       "0    139000\n",
       "1    143000\n",
       "2    180750\n",
       "3    248900\n",
       "Name: SalePrice, dtype: int64"
      ]
     },
     "execution_count": 34,
     "metadata": {},
     "output_type": "execute_result"
    }
   ],
   "source": [
    "binning_check.SalePrice"
   ]
  },
  {
   "cell_type": "code",
   "execution_count": 294,
   "metadata": {},
   "outputs": [],
   "source": [
    "## Use pd.DataFrame.select_dtypes() to specify column types and return only those columns as a data frame.\n",
    "#numeric_train = train.select_dtypes(include=['integer', 'float'])\n",
    "#numeric_test = test.select_dtypes(include=['integer', 'float'])"
   ]
  },
  {
   "cell_type": "code",
   "execution_count": 297,
   "metadata": {},
   "outputs": [],
   "source": [
    "#features = numeric_train.columns.drop(\"SalePrice\")"
   ]
  },
  {
   "cell_type": "code",
   "execution_count": 33,
   "metadata": {},
   "outputs": [],
   "source": [
    "X = all_data[:train_df.shape[0]]\n",
    "y = np.log(train_df.SalePrice)"
   ]
  },
  {
   "cell_type": "code",
   "execution_count": 34,
   "metadata": {},
   "outputs": [
    {
     "name": "stdout",
     "output_type": "stream",
     "text": [
      "(1452, 134) (1452,) (1459, 80)\n"
     ]
    }
   ],
   "source": [
    "print(X.shape, y.shape, x_test.shape)"
   ]
  },
  {
   "cell_type": "code",
   "execution_count": 37,
   "metadata": {},
   "outputs": [
    {
     "data": {
      "text/plain": [
       "((1089, 134), (1089,), (363, 134), (363,))"
      ]
     },
     "execution_count": 37,
     "metadata": {},
     "output_type": "execute_result"
    }
   ],
   "source": [
    "from sklearn.model_selection import train_test_split\n",
    "X_train, X_test, Y_train, Y_test = train_test_split(X, y, test_size=0.333, random_state=42)\n",
    "X_train.shape, Y_train.shape, X_test.shape, Y_test.shape"
   ]
  },
  {
   "cell_type": "code",
   "execution_count": 41,
   "metadata": {},
   "outputs": [
    {
     "name": "stdout",
     "output_type": "stream",
     "text": [
      "The training   R^2 is: 0.82389\n",
      "The validation R^2 is: 0.81208\n",
      "R^2 for total train data is: 0.82107\n"
     ]
    }
   ],
   "source": [
    "lasso = linear_model.Lasso(alpha=1, tol=0.1)\n",
    "lasso.fit(X_train, Y_train)\n",
    "train_score =  lasso.score(X_train, Y_train)\n",
    "val_score = lasso.score(X_test, Y_test)\n",
    "total_score = lasso.score(X, y)\n",
    "print(\"The training   R^2 is: %.5f\" %train_score)\n",
    "print(\"The validation R^2 is: %.5f\" %val_score)\n",
    "print(\"R^2 for total train data is: %.5f\" %total_score)\n",
    "\n"
   ]
  },
  {
   "cell_type": "code",
   "execution_count": 42,
   "metadata": {},
   "outputs": [
    {
     "name": "stdout",
     "output_type": "stream",
     "text": [
      "0.974769880354\n"
     ]
    }
   ],
   "source": [
    "from sklearn import ensemble\n",
    "randomForest = ensemble.RandomForestRegressor()\n",
    "randomForest.fit(X, y)\n",
    "train_error = (1 - randomForest.score(X, y))\n",
    "#test_error = (1 - randomForest.score(X_test, y_test))\n",
    "#print(\"The training error is: %.5f\" %train_error)\n",
    "#print(\"The test     error is: %.5f\" %test_error)\n",
    "print(randomForest.score(X, y))"
   ]
  },
  {
   "cell_type": "code",
   "execution_count": 49,
   "metadata": {},
   "outputs": [],
   "source": [
    "predictions = np.exp(predictions).shape"
   ]
  },
  {
   "cell_type": "code",
   "execution_count": 50,
   "metadata": {
    "scrolled": true
   },
   "outputs": [
    {
     "name": "stdout",
     "output_type": "stream",
     "text": [
      "The training   R^2 is: 0.97929\n",
      "The validation R^2 is: 0.87837\n",
      "R^2 for total train data is: 0.95374\n"
     ]
    }
   ],
   "source": [
    "from sklearn import ensemble\n",
    "randomForest = ensemble.RandomForestRegressor(random_state = 42)\n",
    "randomForest.fit(X_train, Y_train)\n",
    "train_score =  randomForest.score(X_train, Y_train)\n",
    "predictions = randomForest.predict(test)\n",
    "val_score = randomForest.score(X_test, Y_test)\n",
    "total_score = randomForest.score(X, y)\n",
    "print(\"The training   R^2 is: %.5f\" %train_score)\n",
    "print(\"The validation R^2 is: %.5f\" %val_score)\n",
    "print(\"R^2 for total train data is: %.5f\" %total_score)"
   ]
  },
  {
   "cell_type": "code",
   "execution_count": 51,
   "metadata": {},
   "outputs": [
    {
     "name": "stdout",
     "output_type": "stream",
     "text": [
      "Original predictions are: \n",
      " [ 11.57872381  12.01205311  12.146958    12.15705227  12.15609437] \n",
      "\n",
      "Final predictions are: \n",
      " [ 106801.1326433   164728.36292617  188519.73978204  190432.34577759\n",
      "  190250.01848297]\n"
     ]
    }
   ],
   "source": [
    "submission = pd.DataFrame()\n",
    "submission['Id'] = test_df.Id\n",
    "\n",
    "final_predictions = np.exp(predictions)\n",
    "print (\"Original predictions are: \\n\", predictions[:5], \"\\n\")\n",
    "print (\"Final predictions are: \\n\", final_predictions[:5])\n",
    "\n",
    "submission['SalePrice'] = final_predictions\n",
    "submission.head()\n",
    "submission.to_csv(\"solution.csv\", index = False)\n"
   ]
  }
 ],
 "metadata": {
  "kernelspec": {
   "display_name": "Python 3",
   "language": "python",
   "name": "python3"
  },
  "language_info": {
   "codemirror_mode": {
    "name": "ipython",
    "version": 3
   },
   "file_extension": ".py",
   "mimetype": "text/x-python",
   "name": "python",
   "nbconvert_exporter": "python",
   "pygments_lexer": "ipython3",
   "version": "3.6.3"
  }
 },
 "nbformat": 4,
 "nbformat_minor": 2
}
